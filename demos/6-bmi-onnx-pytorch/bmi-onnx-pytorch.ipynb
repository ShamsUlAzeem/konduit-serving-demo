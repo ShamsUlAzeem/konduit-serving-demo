{
 "cells": [
  {
   "cell_type": "code",
   "execution_count": 13,
   "metadata": {},
   "outputs": [],
   "source": [
    "%classpath add jar ../../konduit.jar"
   ]
  },
  {
   "cell_type": "markdown",
   "metadata": {},
   "source": [
    "## Model Link\n",
    "The dl4j model is taken from the dl4j-example here: https://github.com/eclipse/deeplearning4j-examples/blob/master/mvn-project-template/src/main/java/org/deeplearning4j/examples/sample/LeNetMNIST.java"
   ]
  },
  {
   "cell_type": "code",
   "execution_count": 30,
   "metadata": {},
   "outputs": [
    {
     "data": {
      "text/plain": [
       "ai.konduit.PrometheusEndpoint"
      ]
     },
     "execution_count": 30,
     "metadata": {},
     "output_type": "execute_result"
    }
   ],
   "source": [
    "package ai.konduit;\n",
    "\n",
    "import ai.konduit.serving.endpoint.Endpoint;\n",
    "\n",
    "import io.vertx.core.Handler;\n",
    "import io.vertx.core.http.HttpMethod;\n",
    "import io.vertx.ext.web.RoutingContext;\n",
    "\n",
    "import javax.imageio.ImageIO;\n",
    "import java.awt.image.BufferedImage;\n",
    "import java.io.File;\n",
    "import java.io.IOException;\n",
    "import java.util.ArrayList;\n",
    "import java.util.Arrays;\n",
    "import java.util.List;\n",
    "\n",
    "import ai.konduit.serving.pipeline.api.pipeline.PipelineExecutor;\n",
    "\n",
    "import io.micrometer.prometheus.PrometheusConfig;\n",
    "import io.micrometer.prometheus.PrometheusMeterRegistry;\n",
    "import io.micrometer.core.instrument.Counter;\n",
    "import io.micrometer.core.instrument.binder.jvm.JvmMemoryMetrics;\n",
    "import io.micrometer.core.instrument.binder.system.ProcessorMetrics;\n",
    "\n",
    "import java.util.Timer;\n",
    "import java.util.TimerTask;\n",
    "import io.vertx.core.http.HttpHeaders;\n",
    "\n",
    "public class PrometheusEndpoint implements Endpoint {\n",
    "\n",
    "    public static PrometheusMeterRegistry registry;\n",
    "    public static List<Counter> classCounterIncrement = new ArrayList();\n",
    "    public static List<String> labels = Arrays.asList(\"UnderWeight\", \"Normal_Range\", \"OverWeight\", \"Obese_ClassI\", \"Obese_ClassII\", \"Obese_ClassIII\", \"Obese_ClassIV\");\n",
    "    \n",
    "    static {\n",
    "        registry = new PrometheusMeterRegistry(PrometheusConfig.DEFAULT);\n",
    "        \n",
    "        if (registry != null) {\n",
    "            System.out.println(\"Using metrics registry \" + registry.getClass().getName() + \" for inference\");\n",
    "            new JvmMemoryMetrics().bindTo(registry);\n",
    "            new ProcessorMetrics().bindTo(registry);\n",
    "            \n",
    "            Counter serverUpTimeCounter = registry.counter(\"server.up.time\");\n",
    "            double increment = 5.0;\n",
    "            new Timer().schedule(new TimerTask() {\n",
    "                @Override\n",
    "                public void run() {\n",
    "                    serverUpTimeCounter.increment(increment);\n",
    "                }\n",
    "            }, 5000, ((int) increment) * 1000);\n",
    "            \n",
    "            \n",
    "            for (String label : labels) {\n",
    "                classCounterIncrement.add(Counter.builder(label)\n",
    "                        .description(\"Classification counts seen so far for class label: \" + label)\n",
    "                        .baseUnit(\"classification.outcome\")\n",
    "                        .register(registry));\n",
    "            }\n",
    "        } else {\n",
    "            System.out.println(\"Not using metrics registry.\");\n",
    "        }\n",
    "    }\n",
    "    \n",
    "    private PipelineExecutor pipelineExecutor;\n",
    "\n",
    "    public PrometheusEndpoint(PipelineExecutor pipelineExecutor) { \n",
    "        this.pipelineExecutor = pipelineExecutor;\n",
    "    }\n",
    "\n",
    "    public HttpMethod type() { return HttpMethod.GET; }\n",
    "\n",
    "    public String path() { return \"/bmi-metrics\"; }\n",
    "\n",
    "    public List<String> consumes() { return Arrays.asList(); }\n",
    "\n",
    "    public List<String> produces() { return Arrays.asList(\"text/plain; version=0.0.4; charset=utf-8\"); }\n",
    "\n",
    "    @Override\n",
    "    public Handler<RoutingContext> handler() {\n",
    "        return handler -> handler.response().putHeader(HttpHeaders.CONTENT_TYPE, \"text/plain; version=0.0.4; charset=utf-8\").end(registry.scrape());\n",
    "    }\n",
    "}"
   ]
  },
  {
   "cell_type": "code",
   "execution_count": 31,
   "metadata": {},
   "outputs": [
    {
     "data": {
      "text/plain": [
       "ai.konduit.OCREndPoint"
      ]
     },
     "execution_count": 31,
     "metadata": {},
     "output_type": "execute_result"
    }
   ],
   "source": [
    "package ai.konduit;\n",
    "\n",
    "import ai.konduit.serving.endpoint.Endpoint;\n",
    "import ai.konduit.serving.pipeline.api.data.Data;\n",
    "import ai.konduit.serving.pipeline.api.data.Image;\n",
    "import ai.konduit.serving.pipeline.api.pipeline.Pipeline;\n",
    "import ai.konduit.serving.pipeline.api.pipeline.PipelineExecutor;\n",
    "import ai.konduit.serving.pipeline.impl.format.JavaImageFactory;\n",
    "import ai.konduit.serving.pipeline.registry.ImageFactoryRegistry;\n",
    "import io.vertx.core.Handler;\n",
    "import io.vertx.core.http.HttpMethod;\n",
    "import io.vertx.ext.web.RoutingContext;\n",
    "\n",
    "import javax.imageio.ImageIO;\n",
    "import java.awt.image.BufferedImage;\n",
    "import java.io.File;\n",
    "import java.io.IOException;\n",
    "import java.util.ArrayList;\n",
    "import java.util.Arrays;\n",
    "import java.util.List;\n",
    "\n",
    "import io.micrometer.core.instrument.Counter;\n",
    "\n",
    "import ai.konduit.serving.pipeline.util.ObjectMappers;\n",
    "import ai.konduit.serving.pipeline.registry.NDArrayConverterRegistry;\n",
    "import ai.konduit.serving.data.nd4j.format.ND4JConverters;\n",
    "\n",
    "public class OCREndPoint implements Endpoint {\n",
    "\n",
    "    private PipelineExecutor pipelineExecutor;\n",
    "\n",
    "    private Counter requestsHandled = PrometheusEndpoint.registry.counter(\"requests.handled\");\n",
    "\n",
    "    public OCREndPoint(PipelineExecutor pipelineExecutor) { \n",
    "        this.pipelineExecutor = pipelineExecutor; \n",
    "        ImageFactoryRegistry.addFactory(new JavaImageFactory()); \n",
    "        NDArrayConverterRegistry.addConverter(new ND4JConverters.Nd4jToSerializedConverter()); \n",
    "        NDArrayConverterRegistry.addConverter(new ND4JConverters.SerializedToNd4jArrConverter());\n",
    "    }\n",
    "\n",
    "    public HttpMethod type() { return HttpMethod.POST; }\n",
    "\n",
    "    public String path() { return \"/infer\"; }\n",
    "\n",
    "    public List<String> consumes() { return Arrays.asList(\"application/octet-stream\",\"multipart/form-data\"); }\n",
    "\n",
    "    public List<String> produces() { return Arrays.asList(\"application/json\"); }\n",
    "\n",
    "    @Override\n",
    "    public Handler<RoutingContext> handler() {\n",
    "        return handler -> {\n",
    "            handler.vertx().executeBlocking(taskHandler -> {\n",
    "                Data image = Data.empty();\n",
    "                \n",
    "                try {\n",
    "                    image.put(\"image\",Image.create(ImageIO.read(new File(handler.fileUploads().iterator().next().uploadedFileName()))));\n",
    "                } catch (IOException e) {\n",
    "                    e.printStackTrace();\n",
    "                }\n",
    "\n",
    "                Data exec = pipelineExecutor.exec(image);\n",
    "                \n",
    "                handler.response().end(ObjectMappers.toJson(exec));\n",
    "                taskHandler.complete();\n",
    "                \n",
    "                requestsHandled.increment();\n",
    "                \n",
    "                String bmiClass = exec.getString(\"bmi_class\");\n",
    "                int index = PrometheusEndpoint.labels.indexOf(bmiClass.replace(\" \", \"_\").trim());\n",
    "                System.out.format(\"BMI CLASS: %s, for index %s\", bmiClass, index);\n",
    "                if(index != -1) {\n",
    "                    PrometheusEndpoint.classCounterIncrement.get(index).increment();\n",
    "                }\n",
    "            },resultHandler -> {\n",
    "                if(resultHandler.failed()) {\n",
    "                    if(resultHandler.cause() != null)\n",
    "                        if(handler.vertx().exceptionHandler() != null)\n",
    "                            handler.vertx().exceptionHandler().handle(resultHandler.cause());\n",
    "                        else {\n",
    "                            resultHandler.cause().printStackTrace();\n",
    "                        }\n",
    "                    else {\n",
    "                        System.err.println(\"Failed to process classification endpoint async task. Unknown cause.\");\n",
    "                    }\n",
    "                }\n",
    "            });\n",
    "\n",
    "        };\n",
    "    }\n",
    "}"
   ]
  },
  {
   "cell_type": "code",
   "execution_count": 32,
   "metadata": {},
   "outputs": [
    {
     "data": {
      "text/plain": [
       "ai.konduit.OCREndPoints"
      ]
     },
     "execution_count": 32,
     "metadata": {},
     "output_type": "execute_result"
    }
   ],
   "source": [
    "package ai.konduit;\n",
    "\n",
    "import ai.konduit.serving.endpoint.Endpoint;\n",
    "import ai.konduit.serving.endpoint.HttpEndpoints;\n",
    "import ai.konduit.serving.pipeline.api.pipeline.Pipeline;\n",
    "import ai.konduit.serving.pipeline.api.pipeline.PipelineExecutor;\n",
    "\n",
    "import java.util.Arrays;\n",
    "import java.util.List;\n",
    "\n",
    "public class OCREndPoints implements HttpEndpoints {\n",
    "    \n",
    "    @Override\n",
    "    public List<Endpoint> endpoints(Pipeline pipeline, PipelineExecutor pipelineExecutor) {\n",
    "        return Arrays.asList(new OCREndPoint(pipelineExecutor), new PrometheusEndpoint(pipelineExecutor));\n",
    "    }\n",
    "}"
   ]
  },
  {
   "cell_type": "code",
   "execution_count": 33,
   "metadata": {},
   "outputs": [
    {
     "name": "stdout",
     "output_type": "stream",
     "text": [
      "/tmp/beaker7190509432685184405/outDir\n",
      "/home/shams/PycharmProjects/konduit-serving-demo/konduit.jar\n",
      "Saved /tmp/beaker7190509432685184405/outDir:/home/shams/PycharmProjects/konduit-serving-demo/konduit.jar at: /home/shams/PycharmProjects/konduit-serving-demo/demos/6-bmi-onnx-pytorch/classpath\n"
     ]
    },
    {
     "data": {
      "text/plain": [
       "null"
      ]
     },
     "execution_count": 33,
     "metadata": {},
     "output_type": "execute_result"
    }
   ],
   "source": [
    "import java.net.URLClassLoader;\n",
    "import java.net.URL;\n",
    "import java.io.File;\n",
    "\n",
    "import java.util.ArrayList;\n",
    "import java.util.List;\n",
    "\n",
    "import org.apache.commons.io.FileUtils;\n",
    "import java.io.IOException;\n",
    "\n",
    "import java.nio.charset.StandardCharsets;\n",
    "\n",
    "URL[] urls = ((URLClassLoader) Class.forName(\"ai.konduit.serving.vertx.config.InferenceConfiguration\").getClassLoader()).getURLs();\n",
    "List<String> classpaths = new ArrayList<>();\n",
    "\n",
    "for(URL url : urls) {\n",
    "    String singleClassPath = new File(url.toURI()).getAbsolutePath();\n",
    "    System.out.println(singleClassPath);\n",
    "    classpaths.add(singleClassPath);\n",
    "}\n",
    "\n",
    "try {\n",
    "    String output = String.join(File.pathSeparator, classpaths);\n",
    "    File classpathOutputPath = new File(\"classpath\");\n",
    "    FileUtils.writeStringToFile(new File(\"classpath\"), output, StandardCharsets.UTF_8);\n",
    "    System.out.format(\"Saved %s at: %s%n\", output, classpathOutputPath.getAbsolutePath());\n",
    "} catch (IOException e) {\n",
    "    e.printStackTrace();\n",
    "}"
   ]
  },
  {
   "cell_type": "code",
   "execution_count": 6,
   "metadata": {},
   "outputs": [
    {
     "name": "stdout",
     "output_type": "stream",
     "text": [
      "Starting konduit server...\n",
      "Using classpath: /tmp/beaker2218157606244225458/outDir:/home/shams/PycharmProjects/konduit-serving-demo/konduit.jar\n",
      "INFO: Running command /home/shams/miniconda3/envs/beakerx/jre/bin/java -Dkonduit.logs.file.path=/home/shams/.konduit-serving/command_logs/bmi-onnx-pytorch.log -Dlogback.configurationFile=/tmp/logback-run_command_d2edc148b58a4eb7.xml ai.konduit.serving.cli.launcher.KonduitServingLauncher run --instances 1 -s inference -c bmi-onnx-pytorch.yaml -Dserving.id=bmi-onnx-pytorch\n",
      "For server status, execute: 'java ai.konduit.serving.cli.launcher.KonduitServingLauncher list'\n",
      "For logs, execute: 'java ai.konduit.serving.cli.launcher.KonduitServingLauncher logs bmi-onnx-pytorch'\n",
      "Unable to identify last server data file cleanup check\n",
      "java.text.ParseException: Unparseable date: \"11/16/20, 7:39 PM\"\n",
      "\tat java.text.DateFormat.parse(DateFormat.java:366)\n",
      "\tat ai.konduit.serving.cli.launcher.LauncherUtils.cleanServerDataFilesOnceADay(LauncherUtils.java:170)\n",
      "\tat ai.konduit.serving.cli.launcher.command.ServeCommand.run(ServeCommand.java:269)\n",
      "\tat ai.konduit.serving.cli.launcher.command.build.extension.ServeBuildCommand.run(ServeBuildCommand.java:191)\n",
      "\tat io.vertx.core.impl.launcher.VertxCommandLauncher.execute(VertxCommandLauncher.java:248)\n",
      "\tat io.vertx.core.impl.launcher.VertxCommandLauncher.dispatch(VertxCommandLauncher.java:383)\n",
      "\tat io.vertx.core.impl.launcher.VertxCommandLauncher.dispatch(VertxCommandLauncher.java:346)\n",
      "\tat ai.konduit.serving.cli.launcher.KonduitServingLauncher.exec(KonduitServingLauncher.java:71)\n",
      "\tat ai.konduit.serving.cli.launcher.KonduitServingLauncher.main(KonduitServingLauncher.java:62)\n",
      "\n"
     ]
    }
   ],
   "source": [
    "%%bash\n",
    "java -cp $(cat classpath) ai.konduit.serving.cli.launcher.KonduitServingLauncher serve -id bmi-onnx-pytorch -c bmi-onnx-pytorch.yaml -rwm -b"
   ]
  },
  {
   "cell_type": "code",
   "execution_count": 14,
   "metadata": {},
   "outputs": [
    {
     "name": "stdout",
     "output_type": "stream",
     "text": [
      "20:11:11.541 [main] INFO  a.k.s.c.l.command.KonduitRunCommand - Processing configuration: /home/shams/PycharmProjects/konduit-serving-demo/demos/6-bmi-onnx-pytorch/bmi-onnx-pytorch.yaml\n",
      "20:11:11.547 [main] INFO  u.o.l.s.context.SysOutOverSLF4J - Replaced standard System.out and System.err PrintStreams with SLF4JPrintStreams\n",
      "20:11:11.548 [main] INFO  u.o.l.s.context.SysOutOverSLF4J - Redirected System.out and System.err to SLF4J for this context\n",
      "20:11:11.549 [main] INFO  a.k.s.c.l.command.KonduitRunCommand - Starting konduit server with an id of 'bmi-onnx-pytorch'\n",
      "20:11:11.911 [vert.x-worker-thread-0] INFO  a.k.s.p.registry.PipelineRegistry - Loaded 27 PipelineStepRunnerFactory instances\n",
      "20:11:12.311 [vert.x-worker-thread-0] INFO  a.k.serving.python.PythonRunner - Over riding python path :/home/shams/miniconda3/envs/beakerx/lib/python37.zip:/home/shams/miniconda3/envs/beakerx/lib/python3.7:/home/shams/miniconda3/envs/beakerx/lib/python3.7/lib-dynload:/home/shams/miniconda3/envs/beakerx/lib/python3.7/site-packages\n",
      "20:11:12.856 [vert.x-worker-thread-0] INFO  a.k.serving.python.PythonRunner - Resolving execution code from run_script.py\n",
      "20:11:12.857 [vert.x-worker-thread-0] INFO  a.k.serving.python.PythonRunner - Resolving import code from init_script.py\n",
      "20:11:12.857 [vert.x-worker-thread-0] INFO  org.nd4j.python4j.PythonGIL - Pre Gil State ensure for thread 17\n",
      "20:11:12.857 [vert.x-worker-thread-0] INFO  org.nd4j.python4j.PythonGIL - Thread 17 acquired GIL\n",
      "20:11:13.488 [vert.x-worker-thread-0] INFO  org.nd4j.python4j.PythonGIL - Releasing GIL on thread 17\n",
      "20:11:13.489 [vert.x-worker-thread-0] INFO  a.k.s.v.verticle.InferenceVerticle - \n",
      "\n",
      "####################################################################\n",
      "#                                                                  #\n",
      "#    |  /   _ \\   \\ |  _ \\  |  | _ _| __ __|    |  /     |  /      #\n",
      "#    . <   (   | .  |  |  | |  |   |     |      . <      . <       #\n",
      "#   _|\\_\\ \\___/ _|\\_| ___/ \\__/  ___|   _|     _|\\_\\ _) _|\\_\\ _)   #\n",
      "#                                                                  #\n",
      "####################################################################\n",
      "\n",
      "20:11:13.489 [vert.x-worker-thread-0] INFO  a.k.s.v.verticle.InferenceVerticle - Pending server start, please wait...\n",
      "20:11:13.559 [vert.x-eventloop-thread-0] INFO  a.k.s.v.verticle.InferenceVerticle - Writing inspection data at '/home/shams/.konduit-serving/servers/402995.data' with configuration: \n",
      "{\n",
      "  \"host\" : \"0.0.0.0\",\n",
      "  \"port\" : 8082,\n",
      "  \"protocol\" : \"HTTP\",\n",
      "  \"customEndpoints\" : [ ],\n",
      "  \"pipeline\" : {\n",
      "    \"steps\" : [ {\n",
      "      \"@type\" : \"PYTHON\",\n",
      "      \"pythonConfig\" : {\n",
      "        \"pythonConfigType\" : \"CONDA\",\n",
      "        \"pythonPath\" : \"1\",\n",
      "        \"environmentName\" : \"beakerx\",\n",
      "        \"appendType\" : \"BEFORE\",\n",
      "        \"pythonPathResolution\" : \"STATIC\",\n",
      "        \"pythonCodePath\" : \"run_script.py\",\n",
      "        \"pythonLibrariesPath\" : \":/home/shams/miniconda3/envs/beakerx/lib/python37.zip:/home/shams/miniconda3/envs/beakerx/lib/python3.7:/home/shams/miniconda3/envs/beakerx/lib/python3.7/lib-dynload:/home/shams/miniconda3/envs/beakerx/lib/python3.7/site-packages\",\n",
      "        \"importCodePath\" : \"init_script.py\",\n",
      "        \"pythonInputs\" : { },\n",
      "        \"pythonOutputs\" : { },\n",
      "        \"extraInputs\" : { },\n",
      "        \"returnAllInputs\" : false,\n",
      "        \"setupAndRun\" : false,\n",
      "        \"ioInputs\" : {\n",
      "          \"input_image\" : {\n",
      "            \"pythonType\" : \"image\",\n",
      "            \"secondaryType\" : \"NONE\",\n",
      "            \"type\" : \"IMAGE\"\n",
      "          }\n",
      "        },\n",
      "        \"ioOutputs\" : {\n",
      "          \"bmi_value\" : {\n",
      "            \"pythonType\" : \"float\",\n",
      "            \"secondaryType\" : \"NONE\",\n",
      "            \"type\" : \"DOUBLE\"\n",
      "          },\n",
      "          \"bmi_class\" : {\n",
      "            \"pythonType\" : \"str\",\n",
      "            \"secondaryType\" : \"NONE\",\n",
      "            \"type\" : \"STRING\"\n",
      "          }\n",
      "        },\n",
      "        \"jobSuffix\" : \"konduit_job\"\n",
      "      }\n",
      "    } ]\n",
      "  }\n",
      "}\n",
      "20:11:13.559 [vert.x-eventloop-thread-0] INFO  a.k.s.v.p.h.v.InferenceVerticleHttp - Inference HTTP server is listening on host: '0.0.0.0'\n",
      "20:11:13.559 [vert.x-eventloop-thread-0] INFO  a.k.s.v.p.h.v.InferenceVerticleHttp - Inference HTTP server started on port 8082 with 1 pipeline steps\n",
      "\n"
     ]
    }
   ],
   "source": [
    "%%bash\n",
    "konduit logs bmi-onnx-pytorch -l 100"
   ]
  },
  {
   "cell_type": "code",
   "execution_count": 8,
   "metadata": {},
   "outputs": [
    {
     "name": "stdout",
     "output_type": "stream",
     "text": [
      "\n",
      "Listing konduit servers...\n",
      "\n",
      " #   | ID                             | TYPE       | URL                  | PID     | STATUS     \n",
      " 1   | bmi-onnx-pytorch               | inference  | 0.0.0.0:8082         | 402995  | started    \n",
      "\n",
      "\n"
     ]
    }
   ],
   "source": [
    "%%bash\n",
    "konduit list"
   ]
  },
  {
   "cell_type": "code",
   "execution_count": 4,
   "metadata": {},
   "outputs": [
    {
     "data": {
      "text/html": [
       "<html><img src=\"image_me.jpg\"/></html>"
      ]
     },
     "execution_count": 4,
     "metadata": {},
     "output_type": "execute_result"
    }
   ],
   "source": [
    "%%html\n",
    "<img src=\"image_me.jpg\"/>"
   ]
  },
  {
   "cell_type": "code",
   "execution_count": 12,
   "metadata": {},
   "outputs": [
    {
     "name": "stdout",
     "output_type": "stream",
     "text": [
      "8082\n",
      "\n"
     ]
    }
   ],
   "source": [
    "%%bash\n",
    "konduit inspect bmi-onnx-pytorch -q {port}"
   ]
  },
  {
   "cell_type": "code",
   "execution_count": 12,
   "metadata": {},
   "outputs": [
    {
     "name": "stdout",
     "output_type": "stream",
     "text": [
      "{\n",
      "  \"bmi_value\" : 22.18,\n",
      "  \"bmi_class\" : \"Normal_Range\",\n",
      "  \"boxes\" : [ 447.0, 174.0, 636.0, 470.0 ]\n",
      "}\n",
      "\n"
     ]
    }
   ],
   "source": [
    "%%bash\n",
    "curl -s -H \"Content-Type: multipart/form-data\" -X POST -F \"image=@image_me.jpg\" http://localhost:$(konduit inspect bmi-onnx-pytorch -q {port})/infer"
   ]
  },
  {
   "cell_type": "code",
   "execution_count": null,
   "metadata": {},
   "outputs": [],
   "source": [
    "%%bash\n",
    "konduit stop bmi-onnx-pytorch"
   ]
  },
  {
   "cell_type": "code",
   "execution_count": null,
   "metadata": {},
   "outputs": [],
   "source": []
  }
 ],
 "metadata": {
  "kernelspec": {
   "display_name": "Java",
   "language": "java",
   "name": "java"
  },
  "language_info": {
   "codemirror_mode": "text/x-java",
   "file_extension": ".java",
   "mimetype": "",
   "name": "Java",
   "nbconverter_exporter": "",
   "version": "1.8.0_121"
  },
  "toc": {
   "base_numbering": 1,
   "nav_menu": {},
   "number_sections": false,
   "sideBar": false,
   "skip_h1_title": false,
   "title_cell": "Table of Contents",
   "title_sidebar": "Contents",
   "toc_cell": false,
   "toc_position": {},
   "toc_section_display": false,
   "toc_window_display": false
  }
 },
 "nbformat": 4,
 "nbformat_minor": 4
}
