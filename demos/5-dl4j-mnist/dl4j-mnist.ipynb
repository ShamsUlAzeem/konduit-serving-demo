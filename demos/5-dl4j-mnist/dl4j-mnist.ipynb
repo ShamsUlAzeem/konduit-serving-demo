{
 "cells": [
  {
   "cell_type": "code",
   "execution_count": 1,
   "metadata": {},
   "outputs": [
    {
     "data": {
      "application/vnd.jupyter.widget-view+json": {
       "model_id": "d900c239-fa80-4df7-bdfc-1655cf21cda6",
       "version_major": 2,
       "version_minor": 0
      },
      "method": "display_data"
     },
     "metadata": {},
     "output_type": "display_data"
    }
   ],
   "source": [
    "%classpath add jar ../../konduit.jar"
   ]
  },
  {
   "cell_type": "markdown",
   "metadata": {},
   "source": [
    "## Model Link\n",
    "The dl4j model is taken from the dl4j-example here: https://github.com/eclipse/deeplearning4j-examples/blob/master/mvn-project-template/src/main/java/org/deeplearning4j/examples/sample/LeNetMNIST.java"
   ]
  },
  {
   "cell_type": "code",
   "execution_count": 2,
   "metadata": {},
   "outputs": [
    {
     "data": {
      "text/plain": [
       "ai.konduit.OCREndPoint"
      ]
     },
     "execution_count": 2,
     "metadata": {},
     "output_type": "execute_result"
    }
   ],
   "source": [
    "package ai.konduit;\n",
    "\n",
    "import ai.konduit.serving.endpoint.Endpoint;\n",
    "import ai.konduit.serving.pipeline.api.data.Data;\n",
    "import ai.konduit.serving.pipeline.api.data.Image;\n",
    "import ai.konduit.serving.pipeline.api.pipeline.Pipeline;\n",
    "import ai.konduit.serving.pipeline.api.pipeline.PipelineExecutor;\n",
    "import ai.konduit.serving.pipeline.impl.format.JavaImageFactory;\n",
    "import ai.konduit.serving.pipeline.registry.ImageFactoryRegistry;\n",
    "import io.vertx.core.Handler;\n",
    "import io.vertx.core.http.HttpMethod;\n",
    "import io.vertx.ext.web.RoutingContext;\n",
    "\n",
    "import javax.imageio.ImageIO;\n",
    "import java.awt.image.BufferedImage;\n",
    "import java.io.File;\n",
    "import java.io.IOException;\n",
    "import java.util.ArrayList;\n",
    "import java.util.Arrays;\n",
    "import java.util.List;\n",
    "\n",
    "import ai.konduit.serving.pipeline.util.ObjectMappers;\n",
    "import ai.konduit.serving.pipeline.registry.NDArrayConverterRegistry;\n",
    "import ai.konduit.serving.data.nd4j.format.ND4JConverters;\n",
    "\n",
    "public class OCREndPoint implements Endpoint {\n",
    "\n",
    "    private PipelineExecutor pipelineExecutor;\n",
    "\n",
    "    public OCREndPoint(PipelineExecutor pipelineExecutor) { \n",
    "        this.pipelineExecutor = pipelineExecutor; \n",
    "        ImageFactoryRegistry.addFactory(new JavaImageFactory()); \n",
    "        NDArrayConverterRegistry.addConverter(new ND4JConverters.Nd4jToSerializedConverter()); \n",
    "        NDArrayConverterRegistry.addConverter(new ND4JConverters.SerializedToNd4jArrConverter());\n",
    "    }\n",
    "\n",
    "    public HttpMethod type() { return HttpMethod.POST; }\n",
    "\n",
    "    public String path() { return \"/infer\"; }\n",
    "\n",
    "    public List<String> consumes() { return Arrays.asList(\"application/octet-stream\",\"multipart/form-data\"); }\n",
    "\n",
    "    public List<String> produces() { return Arrays.asList(\"application/json\"); }\n",
    "\n",
    "    @Override\n",
    "    public Handler<RoutingContext> handler() {\n",
    "        return handler -> {\n",
    "            handler.vertx().executeBlocking(taskHandler -> {\n",
    "                Data image = Data.empty();\n",
    "                \n",
    "                try {\n",
    "                    image.put(\"image\",Image.create(ImageIO.read(new File(handler.fileUploads().iterator().next().uploadedFileName()))));\n",
    "                } catch (IOException e) {\n",
    "                    e.printStackTrace();\n",
    "                }\n",
    "\n",
    "                Data exec = pipelineExecutor.exec(image);\n",
    "                \n",
    "                handler.response().end(ObjectMappers.toJson(exec.getNDArray(\"layer5\").getAs(float[].class)));\n",
    "                taskHandler.complete();\n",
    "            },resultHandler -> {\n",
    "                if(resultHandler.failed()) {\n",
    "                    if(resultHandler.cause() != null)\n",
    "                        if(handler.vertx().exceptionHandler() != null)\n",
    "                            handler.vertx().exceptionHandler().handle(resultHandler.cause());\n",
    "                        else {\n",
    "                            resultHandler.cause().printStackTrace();\n",
    "                        }\n",
    "                    else {\n",
    "                        System.err.println(\"Failed to process classification endpoint async task. Unknown cause.\");\n",
    "                    }\n",
    "                }\n",
    "            });\n",
    "\n",
    "        };\n",
    "    }\n",
    "}"
   ]
  },
  {
   "cell_type": "code",
   "execution_count": 3,
   "metadata": {},
   "outputs": [
    {
     "data": {
      "text/plain": [
       "ai.konduit.OCREndPoints"
      ]
     },
     "execution_count": 3,
     "metadata": {},
     "output_type": "execute_result"
    }
   ],
   "source": [
    "package ai.konduit;\n",
    "\n",
    "import ai.konduit.serving.endpoint.Endpoint;\n",
    "import ai.konduit.serving.endpoint.HttpEndpoints;\n",
    "import ai.konduit.serving.pipeline.api.pipeline.Pipeline;\n",
    "import ai.konduit.serving.pipeline.api.pipeline.PipelineExecutor;\n",
    "\n",
    "import java.util.Arrays;\n",
    "import java.util.List;\n",
    "\n",
    "public class OCREndPoints implements HttpEndpoints {\n",
    "\n",
    "    @Override\n",
    "    public List<Endpoint> endpoints(Pipeline pipeline, PipelineExecutor pipelineExecutor) {\n",
    "        return Arrays.asList(new OCREndPoint(pipelineExecutor));\n",
    "    }\n",
    "}"
   ]
  },
  {
   "cell_type": "code",
   "execution_count": 4,
   "metadata": {},
   "outputs": [
    {
     "name": "stdout",
     "output_type": "stream",
     "text": [
      "/tmp/beaker2956758940093063187/outDir\n",
      "/home/shams/PycharmProjects/konduit-serving-demo/konduit.jar\n",
      "Saved /tmp/beaker2956758940093063187/outDir:/home/shams/PycharmProjects/konduit-serving-demo/konduit.jar at: /home/shams/PycharmProjects/konduit-serving-demo/demos/5-dl4j-mnist/classpath\n"
     ]
    },
    {
     "data": {
      "text/plain": [
       "null"
      ]
     },
     "execution_count": 4,
     "metadata": {},
     "output_type": "execute_result"
    }
   ],
   "source": [
    "import java.net.URLClassLoader;\n",
    "import java.net.URL;\n",
    "import java.io.File;\n",
    "\n",
    "import java.util.ArrayList;\n",
    "import java.util.List;\n",
    "\n",
    "import org.apache.commons.io.FileUtils;\n",
    "import java.io.IOException;\n",
    "\n",
    "import java.nio.charset.StandardCharsets;\n",
    "\n",
    "URL[] urls = ((URLClassLoader) Class.forName(\"ai.konduit.serving.vertx.config.InferenceConfiguration\").getClassLoader()).getURLs();\n",
    "List<String> classpaths = new ArrayList<>();\n",
    "\n",
    "for(URL url : urls) {\n",
    "    String singleClassPath = new File(url.toURI()).getAbsolutePath();\n",
    "    System.out.println(singleClassPath);\n",
    "    classpaths.add(singleClassPath);\n",
    "}\n",
    "\n",
    "try {\n",
    "    String output = String.join(File.pathSeparator, classpaths);\n",
    "    File classpathOutputPath = new File(\"classpath\");\n",
    "    FileUtils.writeStringToFile(new File(\"classpath\"), output, StandardCharsets.UTF_8);\n",
    "    System.out.format(\"Saved %s at: %s%n\", output, classpathOutputPath.getAbsolutePath());\n",
    "} catch (IOException e) {\n",
    "    e.printStackTrace();\n",
    "}"
   ]
  },
  {
   "cell_type": "code",
   "execution_count": 5,
   "metadata": {},
   "outputs": [
    {
     "name": "stdout",
     "output_type": "stream",
     "text": [
      "Starting konduit server...\n",
      "Using classpath: /tmp/beaker2956758940093063187/outDir:/home/shams/PycharmProjects/konduit-serving-demo/konduit.jar\n",
      "INFO: Running command /home/shams/miniconda3/envs/cuda11/jre/bin/java -Dkonduit.logs.file.path=/home/shams/.konduit-serving/command_logs/dl4j-mnist.log -Dlogback.configurationFile=/tmp/logback-run_command_6df2c1386a194a73.xml ai.konduit.serving.cli.launcher.KonduitServingLauncher run --instances 1 -s inference -c dl4j.json -Dserving.id=dl4j-mnist\n",
      "For server status, execute: 'java ai.konduit.serving.cli.launcher.KonduitServingLauncher list'\n",
      "For logs, execute: 'java ai.konduit.serving.cli.launcher.KonduitServingLauncher logs dl4j-mnist'\n",
      "\n"
     ]
    }
   ],
   "source": [
    "%%bash\n",
    "java -cp $(cat classpath) ai.konduit.serving.cli.launcher.KonduitServingLauncher serve -id dl4j-mnist -c dl4j.json -rwm -b"
   ]
  },
  {
   "cell_type": "code",
   "execution_count": 8,
   "metadata": {},
   "outputs": [
    {
     "name": "stdout",
     "output_type": "stream",
     "text": [
      "21:55:23.322 [main] INFO  a.k.s.c.l.command.KonduitRunCommand - Processing configuration: /home/shams/PycharmProjects/konduit-serving-demo/demos/5-dl4j-mnist/dl4j.json\n",
      "21:55:23.327 [main] INFO  u.o.l.s.context.SysOutOverSLF4J - Replaced standard System.out and System.err PrintStreams with SLF4JPrintStreams\n",
      "21:55:23.329 [main] INFO  u.o.l.s.context.SysOutOverSLF4J - Redirected System.out and System.err to SLF4J for this context\n",
      "21:55:23.329 [main] INFO  a.k.s.c.l.command.KonduitRunCommand - Starting konduit server with an id of 'dl4j-mnist'\n",
      "21:55:23.582 [vert.x-worker-thread-0] INFO  a.k.s.p.registry.PipelineRegistry - Loaded 28 PipelineStepRunnerFactory instances\n",
      "21:55:23.784 [vert.x-worker-thread-0] INFO  org.nd4j.linalg.factory.Nd4jBackend - Loaded [JCublasBackend] backend\n",
      "21:55:23.785 [vert.x-worker-thread-0] ERROR o.n.common.config.ND4JClassLoading - Cannot find class [org.nd4j.linalg.jblas.JblasBackend] of provided class-loader.\n",
      "21:55:23.785 [vert.x-worker-thread-0] ERROR o.n.common.config.ND4JClassLoading - Cannot find class [org.canova.api.io.data.DoubleWritable] of provided class-loader.\n",
      "21:55:23.833 [vert.x-worker-thread-0] ERROR o.n.common.config.ND4JClassLoading - Cannot find class [org.nd4j.linalg.jblas.JblasBackend] of provided class-loader.\n",
      "21:55:23.833 [vert.x-worker-thread-0] ERROR o.n.common.config.ND4JClassLoading - Cannot find class [org.canova.api.io.data.DoubleWritable] of provided class-loader.\n",
      "21:55:27.756 [vert.x-eventloop-thread-1] ERROR java.lang.Throwable - java.lang.ExceptionInInitializerError\n",
      "21:55:27.756 [vert.x-eventloop-thread-1] ERROR java.lang.Throwable - \tat org.nd4j.jita.concurrency.CudaAffinityManager.getNumberOfDevices(CudaAffinityManager.java:132)\n",
      "21:55:27.756 [vert.x-eventloop-thread-1] ERROR java.lang.Throwable - \tat org.nd4j.jita.constant.ConstantProtector.purgeProtector(ConstantProtector.java:56)\n",
      "21:55:27.756 [vert.x-eventloop-thread-1] ERROR java.lang.Throwable - \tat org.nd4j.jita.constant.ConstantProtector.<init>(ConstantProtector.java:49)\n",
      "21:55:27.756 [vert.x-eventloop-thread-1] ERROR java.lang.Throwable - \tat org.nd4j.jita.constant.ConstantProtector.<clinit>(ConstantProtector.java:37)\n",
      "21:55:27.756 [vert.x-eventloop-thread-1] ERROR java.lang.Throwable - \tat org.nd4j.jita.constant.ProtectedCudaConstantHandler.<clinit>(ProtectedCudaConstantHandler.java:65)\n",
      "21:55:27.756 [vert.x-eventloop-thread-1] ERROR java.lang.Throwable - \tat org.nd4j.jita.constant.CudaConstantHandler.<clinit>(CudaConstantHandler.java:34)\n",
      "21:55:27.756 [vert.x-eventloop-thread-1] ERROR java.lang.Throwable - \tat java.lang.Class.forName0(Native Method)\n",
      "21:55:27.756 [vert.x-eventloop-thread-1] ERROR java.lang.Throwable - \tat java.lang.Class.forName(Class.java:348)\n",
      "21:55:27.756 [vert.x-eventloop-thread-1] ERROR java.lang.Throwable - \tat org.nd4j.common.config.ND4JClassLoading.loadClassByName(ND4JClassLoading.java:79)\n",
      "21:55:27.757 [vert.x-eventloop-thread-1] ERROR java.lang.Throwable - \tat org.nd4j.common.config.ND4JClassLoading.loadClassByName(ND4JClassLoading.java:73)\n",
      "21:55:27.757 [vert.x-eventloop-thread-1] ERROR java.lang.Throwable - \tat org.nd4j.linalg.factory.Nd4j.initWithBackend(Nd4j.java:5153)\n",
      "21:55:27.757 [vert.x-eventloop-thread-1] ERROR java.lang.Throwable - \tat org.nd4j.linalg.factory.Nd4j.initContext(Nd4j.java:5094)\n",
      "21:55:27.757 [vert.x-eventloop-thread-1] ERROR java.lang.Throwable - \tat org.nd4j.linalg.factory.Nd4j.<clinit>(Nd4j.java:271)\n",
      "21:55:27.757 [vert.x-eventloop-thread-1] ERROR java.lang.Throwable - \tat org.deeplearning4j.util.ModelSerializer.restoreMultiLayerNetworkHelper(ModelSerializer.java:283)\n",
      "21:55:27.757 [vert.x-eventloop-thread-1] ERROR java.lang.Throwable - \tat org.deeplearning4j.util.ModelSerializer.restoreMultiLayerNetwork(ModelSerializer.java:238)\n",
      "21:55:27.757 [vert.x-eventloop-thread-1] ERROR java.lang.Throwable - \tat org.deeplearning4j.util.ModelSerializer.restoreMultiLayerNetwork(ModelSerializer.java:222)\n",
      "21:55:27.757 [vert.x-eventloop-thread-1] ERROR java.lang.Throwable - \tat org.deeplearning4j.nn.multilayer.MultiLayerNetwork.load(MultiLayerNetwork.java:3878)\n",
      "21:55:27.757 [vert.x-eventloop-thread-1] ERROR java.lang.Throwable - \tat ai.konduit.serving.models.deeplearning4j.step.DL4JRunner.<init>(DL4JRunner.java:164)\n",
      "21:55:27.757 [vert.x-eventloop-thread-1] ERROR java.lang.Throwable - \tat ai.konduit.serving.models.deeplearning4j.step.DL4JPipelineStepRunnerFactory.create(DL4JPipelineStepRunnerFactory.java:41)\n",
      "21:55:27.757 [vert.x-eventloop-thread-1] ERROR java.lang.Throwable - \tat ai.konduit.serving.pipeline.impl.pipeline.BasePipelineExecutor.getRunner(BasePipelineExecutor.java:73)\n",
      "21:55:27.757 [vert.x-eventloop-thread-1] ERROR java.lang.Throwable - \tat ai.konduit.serving.pipeline.impl.pipeline.SequencePipelineExecutor.<init>(SequencePipelineExecutor.java:55)\n",
      "21:55:27.757 [vert.x-eventloop-thread-1] ERROR java.lang.Throwable - \tat ai.konduit.serving.pipeline.impl.pipeline.SequencePipeline.executor(SequencePipeline.java:60)\n",
      "21:55:27.758 [vert.x-eventloop-thread-1] ERROR java.lang.Throwable - \tat ai.konduit.serving.vertx.verticle.InferenceVerticle.initialize(InferenceVerticle.java:47)\n",
      "21:55:27.758 [vert.x-eventloop-thread-1] ERROR java.lang.Throwable - \tat ai.konduit.serving.vertx.protocols.http.verticle.InferenceVerticleHttp.lambda$start$0(InferenceVerticleHttp.java:67)\n",
      "21:55:27.758 [vert.x-eventloop-thread-1] ERROR java.lang.Throwable - \tat io.vertx.core.impl.ContextImpl.lambda$executeBlocking$2(ContextImpl.java:313)\n",
      "21:55:27.758 [vert.x-eventloop-thread-1] ERROR java.lang.Throwable - \tat io.vertx.core.impl.TaskQueue.run(TaskQueue.java:76)\n",
      "21:55:27.758 [vert.x-eventloop-thread-1] ERROR java.lang.Throwable - \tat java.util.concurrent.ThreadPoolExecutor.runWorker(ThreadPoolExecutor.java:1142)\n",
      "21:55:27.758 [vert.x-eventloop-thread-1] ERROR java.lang.Throwable - \tat java.util.concurrent.ThreadPoolExecutor$Worker.run(ThreadPoolExecutor.java:617)\n",
      "21:55:27.758 [vert.x-eventloop-thread-1] ERROR java.lang.Throwable - \tat io.netty.util.concurrent.FastThreadLocalRunnable.run(FastThreadLocalRunnable.java:30)\n",
      "21:55:27.758 [vert.x-eventloop-thread-1] ERROR java.lang.Throwable - \tat java.lang.Thread.run(Thread.java:745)\n",
      "21:55:27.758 [vert.x-eventloop-thread-1] ERROR java.lang.Throwable - Caused by: java.lang.RuntimeException: ND4J is probably missing dependencies. For more information, please refer to: https://deeplearning4j.konduit.ai/nd4j/backend\n",
      "21:55:27.758 [vert.x-eventloop-thread-1] ERROR java.lang.Throwable - \tat org.nd4j.nativeblas.NativeOpsHolder.<init>(NativeOpsHolder.java:116)\n",
      "21:55:27.758 [vert.x-eventloop-thread-1] ERROR java.lang.Throwable - \tat org.nd4j.nativeblas.NativeOpsHolder.<clinit>(NativeOpsHolder.java:37)\n",
      "21:55:27.759 [vert.x-eventloop-thread-1] ERROR java.lang.Throwable - \t... 30 more\n",
      "21:55:27.760 [vert.x-eventloop-thread-1] ERROR java.lang.Throwable - Caused by: java.lang.UnsatisfiedLinkError: no jnind4jcuda in java.library.path\n",
      "21:55:27.760 [vert.x-eventloop-thread-1] ERROR java.lang.Throwable - \tat java.lang.ClassLoader.loadLibrary(ClassLoader.java:1867)\n",
      "21:55:27.760 [vert.x-eventloop-thread-1] ERROR java.lang.Throwable - \tat java.lang.Runtime.loadLibrary0(Runtime.java:870)\n",
      "21:55:27.760 [vert.x-eventloop-thread-1] ERROR java.lang.Throwable - \tat java.lang.System.loadLibrary(System.java:1122)\n",
      "21:55:27.760 [vert.x-eventloop-thread-1] ERROR java.lang.Throwable - \tat org.bytedeco.javacpp.Loader.loadLibrary(Loader.java:1683)\n",
      "21:55:27.761 [vert.x-eventloop-thread-1] ERROR java.lang.Throwable - \tat org.bytedeco.javacpp.Loader.load(Loader.java:1300)\n",
      "21:55:27.761 [vert.x-eventloop-thread-1] ERROR java.lang.Throwable - \tat org.bytedeco.javacpp.Loader.load(Loader.java:1123)\n",
      "21:55:27.761 [vert.x-eventloop-thread-1] ERROR java.lang.Throwable - \tat org.nd4j.nativeblas.Nd4jCuda.<clinit>(Nd4jCuda.java:10)\n",
      "21:55:27.761 [vert.x-eventloop-thread-1] ERROR java.lang.Throwable - \tat java.lang.Class.forName0(Native Method)\n",
      "21:55:27.761 [vert.x-eventloop-thread-1] ERROR java.lang.Throwable - \tat java.lang.Class.forName(Class.java:348)\n",
      "21:55:27.761 [vert.x-eventloop-thread-1] ERROR java.lang.Throwable - \tat org.nd4j.common.config.ND4JClassLoading.loadClassByName(ND4JClassLoading.java:79)\n",
      "21:55:27.761 [vert.x-eventloop-thread-1] ERROR java.lang.Throwable - \tat org.nd4j.common.config.ND4JClassLoading.loadClassByName(ND4JClassLoading.java:73)\n",
      "21:55:27.761 [vert.x-eventloop-thread-1] ERROR java.lang.Throwable - \tat org.nd4j.nativeblas.NativeOpsHolder.<init>(NativeOpsHolder.java:88)\n",
      "21:55:27.761 [vert.x-eventloop-thread-1] ERROR java.lang.Throwable - \t... 31 more\n",
      "21:55:27.761 [vert.x-eventloop-thread-1] ERROR java.lang.Throwable - Caused by: java.lang.UnsatisfiedLinkError: /home/shams/.javacpp/cache/konduit.jar/org/nd4j/nativeblas/linux-x86_64/libjnind4jcuda.so: libcusolver.so.10: cannot open shared object file: No such file or directory\n",
      "21:55:27.761 [vert.x-eventloop-thread-1] ERROR java.lang.Throwable - \tat java.lang.ClassLoader$NativeLibrary.load(Native Method)\n",
      "21:55:27.762 [vert.x-eventloop-thread-1] ERROR java.lang.Throwable - \tat java.lang.ClassLoader.loadLibrary0(ClassLoader.java:1941)\n",
      "21:55:27.762 [vert.x-eventloop-thread-1] ERROR java.lang.Throwable - \tat java.lang.ClassLoader.loadLibrary(ClassLoader.java:1824)\n",
      "21:55:27.762 [vert.x-eventloop-thread-1] ERROR java.lang.Throwable - \tat java.lang.Runtime.load0(Runtime.java:809)\n",
      "21:55:27.762 [vert.x-eventloop-thread-1] ERROR java.lang.Throwable - \tat java.lang.System.load(System.java:1086)\n",
      "21:55:27.762 [vert.x-eventloop-thread-1] ERROR java.lang.Throwable - \tat org.bytedeco.javacpp.Loader.loadLibrary(Loader.java:1633)\n",
      "21:55:27.762 [vert.x-eventloop-thread-1] ERROR java.lang.Throwable - \t... 39 more\n",
      "\n"
     ]
    }
   ],
   "source": [
    "%%bash\n",
    "konduit logs dl4j-mnist -l 100"
   ]
  },
  {
   "cell_type": "code",
   "execution_count": 9,
   "metadata": {},
   "outputs": [
    {
     "name": "stdout",
     "output_type": "stream",
     "text": [
      "\n",
      "Listing konduit servers...\n",
      "\n",
      "No konduit servers found.\n",
      "\n"
     ]
    }
   ],
   "source": [
    "%%bash\n",
    "konduit list"
   ]
  },
  {
   "cell_type": "code",
   "execution_count": 1,
   "metadata": {},
   "outputs": [
    {
     "data": {
      "text/html": [
       "<html><img src=\"test-image.jpg\"/></html>"
      ]
     },
     "execution_count": 1,
     "metadata": {},
     "output_type": "execute_result"
    }
   ],
   "source": [
    "%%html\n",
    "<img src=\"test-image.jpg\"/>"
   ]
  },
  {
   "cell_type": "code",
   "execution_count": 27,
   "metadata": {},
   "outputs": [
    {
     "name": "stdout",
     "output_type": "stream",
     "text": [
      "[ 1.845163E-5, 1.8346094E-6, 0.31436875, 0.43937472, 2.6101702E-8, 0.24587035, 5.9430695E-6, 3.3270408E-4, 6.3698195E-8, 2.708706E-5 ]\n",
      "\n"
     ]
    }
   ],
   "source": [
    "%%bash\n",
    "curl -s -H \"Content-Type: multipart/form-data\" -X POST -F \"image=@test-image.jpg\" http://localhost:$(konduit inspect dl4j-mnist -q {port})/infer"
   ]
  },
  {
   "cell_type": "code",
   "execution_count": 28,
   "metadata": {},
   "outputs": [
    {
     "name": "stdout",
     "output_type": "stream",
     "text": [
      "Stopping konduit server 'dl4j-mnist'\n",
      "Application 'dl4j-mnist' terminated with status 0\n",
      "\n"
     ]
    }
   ],
   "source": [
    "%%bash\n",
    "konduit stop dl4j-mnist"
   ]
  },
  {
   "cell_type": "code",
   "execution_count": null,
   "metadata": {},
   "outputs": [],
   "source": []
  }
 ],
 "metadata": {
  "kernelspec": {
   "display_name": "Java",
   "language": "java",
   "name": "java"
  },
  "language_info": {
   "codemirror_mode": "text/x-java",
   "file_extension": ".java",
   "mimetype": "",
   "name": "Java",
   "nbconverter_exporter": "",
   "version": "1.8.0_121"
  },
  "toc": {
   "base_numbering": 1,
   "nav_menu": {},
   "number_sections": false,
   "sideBar": false,
   "skip_h1_title": false,
   "title_cell": "Table of Contents",
   "title_sidebar": "Contents",
   "toc_cell": false,
   "toc_position": {},
   "toc_section_display": false,
   "toc_window_display": false
  }
 },
 "nbformat": 4,
 "nbformat_minor": 4
}
