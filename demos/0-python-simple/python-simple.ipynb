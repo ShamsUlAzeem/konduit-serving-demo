{
 "cells": [
  {
   "cell_type": "code",
   "execution_count": 1,
   "metadata": {},
   "outputs": [
    {
     "data": {
      "application/vnd.jupyter.widget-view+json": {
       "model_id": "7bdd825d-c144-47e6-b0d0-439114148b9e",
       "version_major": 2,
       "version_minor": 0
      },
      "method": "display_data"
     },
     "metadata": {},
     "output_type": "display_data"
    }
   ],
   "source": [
    "%classpath add jar ../../konduit.jar"
   ]
  },
  {
   "cell_type": "code",
   "execution_count": 2,
   "metadata": {},
   "outputs": [
    {
     "name": "stdout",
     "output_type": "stream",
     "text": [
      "---\n",
      "host: \"0.0.0.0\"\n",
      "pipeline:\n",
      "  steps:\n",
      "  - '@type': \"PYTHON\"\n",
      "    python_config:\n",
      "      append_type: \"BEFORE\"\n",
      "      extra_inputs: {}\n",
      "      import_code_path: \"init_script.py\"\n",
      "      python_code_path: \"run_script.py\"\n",
      "      io_inputs:\n",
      "        a:\n",
      "          python_type: \"float\"\n",
      "          secondary_type: \"NONE\"\n",
      "          type: \"DOUBLE\"\n",
      "        b:\n",
      "          python_type: \"float\"\n",
      "          secondary_type: \"NONE\"\n",
      "          type: \"DOUBLE\"\n",
      "      io_outputs:\n",
      "        c:\n",
      "          python_type: \"float\"\n",
      "          secondary_type: \"NONE\"\n",
      "          type: \"DOUBLE\"\n",
      "      job_suffix: \"konduit_job\"\n",
      "      python_config_type: \"CONDA\"\n",
      "      python_path: \"1\"\n",
      "      environment_name: \"base\"\n",
      "      python_path_resolution: \"STATIC\"\n",
      "      python_inputs: {}\n",
      "      python_outputs: {}\n",
      "      return_all_inputs: false\n",
      "      setup_and_run: false\n",
      "port: 8082\n",
      "protocol: \"HTTP\"\n",
      "\n"
     ]
    }
   ],
   "source": [
    "%%bash\n",
    "less python.yaml"
   ]
  },
  {
   "cell_type": "code",
   "execution_count": 3,
   "metadata": {
    "pycharm": {
     "name": "#%%\n"
    }
   },
   "outputs": [
    {
     "name": "stdout",
     "output_type": "stream",
     "text": [
      "Starting konduit server...\n",
      "Using classpath: /root/konduit/bin/../konduit.jar\n",
      "INFO: Running command /opt/conda/jre/bin/java -Dkonduit.logs.file.path=/root/.konduit-serving/command_logs/server.log -Dlogback.configurationFile=/tmp/logback-run_command_44dc9a70997c4e69.xml -jar /root/konduit/bin/../konduit.jar run --instances 1 -s inference -c python.yaml -Dserving.id=server\n",
      "For server status, execute: 'konduit list'\n",
      "For logs, execute: 'konduit logs server'\n",
      "\n"
     ]
    }
   ],
   "source": [
    "%%bash\n",
    "konduit serve -rwm --config python.yaml -id server -b"
   ]
  },
  {
   "cell_type": "code",
   "execution_count": 4,
   "metadata": {},
   "outputs": [
    {
     "name": "stdout",
     "output_type": "stream",
     "text": [
      "\n",
      "Listing konduit servers...\n",
      "\n",
      " #   | ID                             | TYPE       | URL                  | PID     | STATUS     \n",
      " 1   | server                         | inference  | 0.0.0.0:8082         | 75      | started    \n",
      "\n",
      "\n"
     ]
    }
   ],
   "source": [
    "%%bash\n",
    "konduit list"
   ]
  },
  {
   "cell_type": "code",
   "execution_count": 5,
   "metadata": {},
   "outputs": [
    {
     "name": "stdout",
     "output_type": "stream",
     "text": [
      "          \"b\" : {\n",
      "            \"pythonType\" : \"float\",\n",
      "            \"secondaryType\" : \"NONE\",\n",
      "            \"type\" : \"DOUBLE\"\n",
      "          }\n",
      "        },\n",
      "        \"ioOutputs\" : {\n",
      "          \"c\" : {\n",
      "            \"pythonType\" : \"float\",\n",
      "            \"secondaryType\" : \"NONE\",\n",
      "            \"type\" : \"DOUBLE\"\n",
      "          }\n",
      "        },\n",
      "        \"jobSuffix\" : \"konduit_job\"\n",
      "      }\n",
      "    } ]\n",
      "  }\n",
      "}\n",
      "03:17:56.555 [vert.x-eventloop-thread-0] INFO  a.k.s.v.p.h.v.InferenceVerticleHttp - Inference HTTP server is listening on host: '0.0.0.0'\n",
      "03:17:56.555 [vert.x-eventloop-thread-0] INFO  a.k.s.v.p.h.v.InferenceVerticleHttp - Inference HTTP server started on port 8082 with 1 pipeline steps\n",
      "\n"
     ]
    }
   ],
   "source": [
    "%%bash\n",
    "konduit logs server --lines 20"
   ]
  },
  {
   "cell_type": "code",
   "execution_count": 6,
   "metadata": {},
   "outputs": [
    {
     "name": "stdout",
     "output_type": "stream",
     "text": [
      "{\n",
      "  \"c\" : 3.0\n",
      "}\n",
      "\n"
     ]
    }
   ],
   "source": [
    "%%bash\n",
    "konduit predict server '{\"a\":1,\"b\":2}'"
   ]
  }
 ],
 "metadata": {
  "kernelspec": {
   "display_name": "Java",
   "language": "java",
   "name": "java"
  },
  "language_info": {
   "codemirror_mode": "text/x-java",
   "file_extension": ".java",
   "mimetype": "",
   "name": "Java",
   "nbconverter_exporter": "",
   "version": "1.8.0_121"
  },
  "toc": {
   "base_numbering": 1,
   "nav_menu": {},
   "number_sections": false,
   "sideBar": false,
   "skip_h1_title": false,
   "title_cell": "Table of Contents",
   "title_sidebar": "Contents",
   "toc_cell": false,
   "toc_position": {},
   "toc_section_display": false,
   "toc_window_display": false
  }
 },
 "nbformat": 4,
 "nbformat_minor": 4
}
