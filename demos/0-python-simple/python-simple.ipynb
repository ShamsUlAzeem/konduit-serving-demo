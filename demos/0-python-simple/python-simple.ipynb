{
 "cells": [
  {
   "cell_type": "markdown",
   "metadata": {},
   "source": [
    "### View directory structure\n",
    "The following files are present in our simple python script demo"
   ]
  },
  {
   "cell_type": "code",
   "execution_count": 1,
   "metadata": {},
   "outputs": [
    {
     "name": "stdout",
     "output_type": "stream",
     "text": [
      "Current directory /home/shams/PycharmProjects/konduit-serving-demo/demos/0-python-simple\n",
      ".\n",
      "├── init_script.py\n",
      "├── python-simple.ipynb\n",
      "├── python.yaml\n",
      "└── run_script.py\n",
      "\n",
      "0 directories, 4 files\n",
      "\n"
     ]
    }
   ],
   "source": [
    "%%bash\n",
    "echo \"Current directory $(pwd)\" && tree"
   ]
  },
  {
   "cell_type": "markdown",
   "metadata": {},
   "source": [
    "### Viewing script content\n",
    "The scripts contain a simple initialization script for an add function which loads the main function in the `init_script.py` and executes the incoming input through `run_script.py`"
   ]
  },
  {
   "cell_type": "code",
   "execution_count": 2,
   "metadata": {},
   "outputs": [
    {
     "name": "stdout",
     "output_type": "stream",
     "text": [
      "def add_function(x, y):\n",
      "    return x + y\n",
      "\n"
     ]
    }
   ],
   "source": [
    "%%bash\n",
    "less init_script.py"
   ]
  },
  {
   "cell_type": "code",
   "execution_count": 3,
   "metadata": {},
   "outputs": [
    {
     "name": "stdout",
     "output_type": "stream",
     "text": [
      "c = add_function(a, b)\n",
      "\n"
     ]
    }
   ],
   "source": [
    "%%bash\n",
    "less run_script.py"
   ]
  },
  {
   "cell_type": "markdown",
   "metadata": {},
   "source": [
    "### Viewing the main configuration for the python file\n",
    "The main configuration should define the inputs as `a` and `b` and the output as `c`, just as we've showed in the `run_script.py`: "
   ]
  },
  {
   "cell_type": "code",
   "execution_count": 4,
   "metadata": {},
   "outputs": [
    {
     "name": "stdout",
     "output_type": "stream",
     "text": [
      "---\n",
      "host: \"0.0.0.0\"\n",
      "pipeline:\n",
      "  steps:\n",
      "  - '@type': \"PYTHON\"\n",
      "    python_config:\n",
      "      append_type: \"BEFORE\"\n",
      "      extra_inputs: {}\n",
      "      import_code_path: \"init_script.py\"\n",
      "      python_code_path: \"run_script.py\"\n",
      "      io_inputs:\n",
      "        a:\n",
      "          python_type: \"float\"\n",
      "          secondary_type: \"NONE\"\n",
      "          type: \"DOUBLE\"\n",
      "        b:\n",
      "          python_type: \"float\"\n",
      "          secondary_type: \"NONE\"\n",
      "          type: \"DOUBLE\"\n",
      "      io_outputs:\n",
      "        c:\n",
      "          python_type: \"float\"\n",
      "          secondary_type: \"NONE\"\n",
      "          type: \"DOUBLE\"\n",
      "      job_suffix: \"konduit_job\"\n",
      "      python_config_type: \"CONDA\"\n",
      "      python_path: \"1\"\n",
      "      environment_name: \"base\"\n",
      "      python_path_resolution: \"STATIC\"\n",
      "      python_inputs: {}\n",
      "      python_outputs: {}\n",
      "      return_all_inputs: false\n",
      "      setup_and_run: false\n",
      "port: 8082\n",
      "protocol: \"HTTP\"\n",
      "\n"
     ]
    }
   ],
   "source": [
    "%%bash\n",
    "less python.yaml"
   ]
  },
  {
   "cell_type": "markdown",
   "metadata": {},
   "source": [
    "### Using the configuration to start a server\n",
    "Now we can use the `konduit serve` command to start the server with the given files and configurations"
   ]
  },
  {
   "cell_type": "code",
   "execution_count": 5,
   "metadata": {
    "pycharm": {
     "name": "#%%\n"
    }
   },
   "outputs": [
    {
     "name": "stdout",
     "output_type": "stream",
     "text": [
      "Starting konduit server...\n",
      "Using classpath: /home/shams/PycharmProjects/konduit-serving-demo/bin/../konduit.jar\n",
      "INFO: Running command /home/shams/miniconda3/envs/beakerx/jre/bin/java -Dkonduit.logs.file.path=/home/shams/.konduit-serving/command_logs/server.log -Dlogback.configurationFile=/tmp/logback-run_command_2e0fdce358374a88.xml -jar /home/shams/PycharmProjects/konduit-serving-demo/bin/../konduit.jar run --instances 1 -s inference -c python.yaml -Dserving.id=server\n",
      "For server status, execute: 'konduit list'\n",
      "For logs, execute: 'konduit logs server'\n",
      "Unable to identify last server data file cleanup check\n",
      "java.text.ParseException: Unparseable date: \"11/16/20, 7:39 PM\"\n",
      "\tat java.text.DateFormat.parse(DateFormat.java:366)\n",
      "\tat ai.konduit.serving.cli.launcher.LauncherUtils.cleanServerDataFilesOnceADay(LauncherUtils.java:170)\n",
      "\tat ai.konduit.serving.cli.launcher.command.ServeCommand.run(ServeCommand.java:269)\n",
      "\tat ai.konduit.serving.cli.launcher.command.build.extension.ServeBuildCommand.run(ServeBuildCommand.java:191)\n",
      "\tat io.vertx.core.impl.launcher.VertxCommandLauncher.execute(VertxCommandLauncher.java:248)\n",
      "\tat io.vertx.core.impl.launcher.VertxCommandLauncher.dispatch(VertxCommandLauncher.java:383)\n",
      "\tat io.vertx.core.impl.launcher.VertxCommandLauncher.dispatch(VertxCommandLauncher.java:346)\n",
      "\tat ai.konduit.serving.cli.launcher.KonduitServingLauncher.exec(KonduitServingLauncher.java:71)\n",
      "\tat ai.konduit.serving.cli.launcher.KonduitServingLauncher.main(KonduitServingLauncher.java:62)\n",
      "\n"
     ]
    }
   ],
   "source": [
    "%%bash\n",
    "konduit serve -rwm --config python.yaml -id server --background"
   ]
  },
  {
   "cell_type": "markdown",
   "metadata": {},
   "source": [
    "### Listing the servers\n",
    "We can list the created servers with `konduit list` command"
   ]
  },
  {
   "cell_type": "code",
   "execution_count": 10,
   "metadata": {},
   "outputs": [
    {
     "name": "stdout",
     "output_type": "stream",
     "text": [
      "\n",
      "Listing konduit servers...\n",
      "\n",
      "No konduit servers found.\n",
      "\n"
     ]
    }
   ],
   "source": [
    "%%bash\n",
    "konduit list"
   ]
  },
  {
   "cell_type": "markdown",
   "metadata": {},
   "source": [
    "### Viewing logs\n",
    "Logs can be viewed for the server with an id of `server` through running `konduit logs server ..` command"
   ]
  },
  {
   "cell_type": "code",
   "execution_count": 7,
   "metadata": {},
   "outputs": [
    {
     "name": "stdout",
     "output_type": "stream",
     "text": [
      "19:49:00.555 [main] INFO  a.k.s.c.l.command.KonduitRunCommand - Processing configuration: /home/shams/PycharmProjects/konduit-serving-demo/demos/0-python-simple/python.yaml\n",
      "19:49:00.561 [main] INFO  u.o.l.s.context.SysOutOverSLF4J - Replaced standard System.out and System.err PrintStreams with SLF4JPrintStreams\n",
      "19:49:00.563 [main] INFO  u.o.l.s.context.SysOutOverSLF4J - Redirected System.out and System.err to SLF4J for this context\n",
      "19:49:00.563 [main] INFO  a.k.s.c.l.command.KonduitRunCommand - Starting konduit server with an id of 'server'\n",
      "19:49:00.925 [vert.x-worker-thread-0] INFO  a.k.s.p.registry.PipelineRegistry - Loaded 27 PipelineStepRunnerFactory instances\n",
      "19:49:00.930 [vert.x-worker-thread-0] INFO  a.k.serving.python.PythonRunner - Resolving execution code from run_script.py\n",
      "19:49:00.930 [vert.x-worker-thread-0] INFO  a.k.serving.python.PythonRunner - Resolving import code from init_script.py\n",
      "19:49:01.470 [vert.x-worker-thread-0] INFO  org.nd4j.python4j.PythonGIL - Pre Gil State ensure for thread 17\n",
      "19:49:01.471 [vert.x-worker-thread-0] INFO  org.nd4j.python4j.PythonGIL - Thread 17 acquired GIL\n",
      "19:49:01.477 [vert.x-worker-thread-0] INFO  org.nd4j.python4j.PythonGIL - Releasing GIL on thread 17\n",
      "19:49:01.477 [vert.x-worker-thread-0] INFO  a.k.s.v.verticle.InferenceVerticle - \n",
      "\n",
      "####################################################################\n",
      "#                                                                  #\n",
      "#    |  /   _ \\   \\ |  _ \\  |  | _ _| __ __|    |  /     |  /      #\n",
      "#    . <   (   | .  |  |  | |  |   |     |      . <      . <       #\n",
      "#   _|\\_\\ \\___/ _|\\_| ___/ \\__/  ___|   _|     _|\\_\\ _) _|\\_\\ _)   #\n",
      "#                                                                  #\n",
      "####################################################################\n",
      "\n",
      "19:49:01.478 [vert.x-worker-thread-0] INFO  a.k.s.v.verticle.InferenceVerticle - Pending server start, please wait...\n",
      "19:49:01.540 [vert.x-eventloop-thread-0] INFO  a.k.s.v.verticle.InferenceVerticle - Writing inspection data at '/home/shams/.konduit-serving/servers/400619.data' with configuration: \n",
      "{\n",
      "  \"host\" : \"0.0.0.0\",\n",
      "  \"port\" : 8082,\n",
      "  \"protocol\" : \"HTTP\",\n",
      "  \"customEndpoints\" : [ ],\n",
      "  \"pipeline\" : {\n",
      "    \"steps\" : [ {\n",
      "      \"@type\" : \"PYTHON\",\n",
      "      \"pythonConfig\" : {\n",
      "        \"pythonConfigType\" : \"CONDA\",\n",
      "        \"pythonPath\" : \"1\",\n",
      "        \"environmentName\" : \"base\",\n",
      "        \"appendType\" : \"BEFORE\",\n",
      "        \"pythonPathResolution\" : \"STATIC\",\n",
      "        \"pythonCodePath\" : \"run_script.py\",\n",
      "        \"importCodePath\" : \"init_script.py\",\n",
      "        \"pythonInputs\" : { },\n",
      "        \"pythonOutputs\" : { },\n",
      "        \"extraInputs\" : { },\n",
      "        \"returnAllInputs\" : false,\n",
      "        \"setupAndRun\" : false,\n",
      "        \"ioInputs\" : {\n",
      "          \"a\" : {\n",
      "            \"pythonType\" : \"float\",\n",
      "            \"secondaryType\" : \"NONE\",\n",
      "            \"type\" : \"DOUBLE\"\n",
      "          },\n",
      "          \"b\" : {\n",
      "            \"pythonType\" : \"float\",\n",
      "            \"secondaryType\" : \"NONE\",\n",
      "            \"type\" : \"DOUBLE\"\n",
      "          }\n",
      "        },\n",
      "        \"ioOutputs\" : {\n",
      "          \"c\" : {\n",
      "            \"pythonType\" : \"float\",\n",
      "            \"secondaryType\" : \"NONE\",\n",
      "            \"type\" : \"DOUBLE\"\n",
      "          }\n",
      "        },\n",
      "        \"jobSuffix\" : \"konduit_job\"\n",
      "      }\n",
      "    } ]\n",
      "  }\n",
      "}\n",
      "19:49:01.540 [vert.x-eventloop-thread-0] INFO  a.k.s.v.p.h.v.InferenceVerticleHttp - Inference HTTP server is listening on host: '0.0.0.0'\n",
      "19:49:01.540 [vert.x-eventloop-thread-0] INFO  a.k.s.v.p.h.v.InferenceVerticleHttp - Inference HTTP server started on port 8082 with 1 pipeline steps\n",
      "\n"
     ]
    }
   ],
   "source": [
    "%%bash\n",
    "konduit logs server --lines 1000"
   ]
  },
  {
   "cell_type": "markdown",
   "metadata": {},
   "source": [
    "### Sending inputs\n",
    "Now we can send in inputs for inferring the output"
   ]
  },
  {
   "cell_type": "code",
   "execution_count": 8,
   "metadata": {},
   "outputs": [
    {
     "name": "stdout",
     "output_type": "stream",
     "text": [
      "{\n",
      "  \"c\" : 3.0\n",
      "}\n",
      "\n"
     ]
    }
   ],
   "source": [
    "%%bash\n",
    "konduit predict server '{\"a\":1,\"b\":2}'"
   ]
  },
  {
   "cell_type": "code",
   "execution_count": 9,
   "metadata": {},
   "outputs": [
    {
     "name": "stdout",
     "output_type": "stream",
     "text": [
      "Stopping konduit server 'server'\n",
      "Application 'server' terminated with status 0\n",
      "Unable to identify last server data file cleanup check\n",
      "java.text.ParseException: Unparseable date: \"11/16/20, 7:39 PM\"\n",
      "\tat java.text.DateFormat.parse(DateFormat.java:366)\n",
      "\tat ai.konduit.serving.cli.launcher.LauncherUtils.cleanServerDataFilesOnceADay(LauncherUtils.java:170)\n",
      "\tat ai.konduit.serving.cli.launcher.command.StopCommand.run(StopCommand.java:114)\n",
      "\tat io.vertx.core.impl.launcher.VertxCommandLauncher.execute(VertxCommandLauncher.java:248)\n",
      "\tat io.vertx.core.impl.launcher.VertxCommandLauncher.dispatch(VertxCommandLauncher.java:383)\n",
      "\tat io.vertx.core.impl.launcher.VertxCommandLauncher.dispatch(VertxCommandLauncher.java:346)\n",
      "\tat ai.konduit.serving.cli.launcher.KonduitServingLauncher.exec(KonduitServingLauncher.java:71)\n",
      "\tat ai.konduit.serving.cli.launcher.KonduitServingLauncher.main(KonduitServingLauncher.java:62)\n",
      "\n"
     ]
    }
   ],
   "source": [
    "%%bash\n",
    "konduit stop server"
   ]
  },
  {
   "cell_type": "code",
   "execution_count": null,
   "metadata": {},
   "outputs": [],
   "source": []
  }
 ],
 "metadata": {
  "kernelspec": {
   "display_name": "Java",
   "language": "java",
   "name": "java"
  },
  "language_info": {
   "codemirror_mode": "text/x-java",
   "file_extension": ".java",
   "mimetype": "",
   "name": "Java",
   "nbconverter_exporter": "",
   "version": "1.8.0_121"
  },
  "toc": {
   "base_numbering": 1,
   "nav_menu": {},
   "number_sections": false,
   "sideBar": false,
   "skip_h1_title": false,
   "title_cell": "Table of Contents",
   "title_sidebar": "Contents",
   "toc_cell": false,
   "toc_position": {},
   "toc_section_display": false,
   "toc_window_display": false
  }
 },
 "nbformat": 4,
 "nbformat_minor": 4
}
