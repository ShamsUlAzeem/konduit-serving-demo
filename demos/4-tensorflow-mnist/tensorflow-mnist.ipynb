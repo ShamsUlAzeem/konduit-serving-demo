{
 "cells": [
  {
   "cell_type": "code",
   "execution_count": 2,
   "metadata": {},
   "outputs": [
    {
     "data": {
      "application/vnd.jupyter.widget-view+json": {
       "model_id": "b1c04f89-0595-4825-93e1-2a6b93a05077",
       "version_major": 2,
       "version_minor": 0
      },
      "method": "display_data"
     },
     "metadata": {},
     "output_type": "display_data"
    }
   ],
   "source": [
    "%classpath add jar ../../konduit.jar"
   ]
  },
  {
   "cell_type": "code",
   "execution_count": null,
   "metadata": {},
   "outputs": [],
   "source": [
    "%%bash\n",
    "konduit stop tensorflow-mnist"
   ]
  },
  {
   "cell_type": "code",
   "execution_count": 4,
   "metadata": {},
   "outputs": [
    {
     "name": "stdout",
     "output_type": "stream",
     "text": [
      "Starting konduit server...\n",
      "Using classpath: /root/konduit/bin/../konduit.jar\n",
      "INFO: Running command /root/miniconda/jre/bin/java -Dkonduit.logs.file.path=/root/.konduit-serving/command_logs/tensorflow-mnist.log -Dlogback.configurationFile=/tmp/logback-run_command_567bc45d09d04055.xml -jar /root/konduit/bin/../konduit.jar run --instances 1 -s inference -c tensorflow.json -Dserving.id=tensorflow-mnist\n",
      "For server status, execute: 'konduit list'\n",
      "For logs, execute: 'konduit logs tensorflow-mnist'\n",
      "\n"
     ]
    }
   ],
   "source": [
    "%%bash\n",
    "konduit serve -id tensorflow-mnist -c tensorflow.json -rwm --background"
   ]
  },
  {
   "cell_type": "code",
   "execution_count": 5,
   "metadata": {},
   "outputs": [
    {
     "name": "stdout",
     "output_type": "stream",
     "text": [
      "04:41:50.478 [main] INFO  a.k.s.c.l.command.KonduitRunCommand - Processing configuration: /root/konduit/demos/4-tensorflow-mnist/tensorflow.json\n",
      "04:41:50.483 [main] INFO  u.o.l.s.context.SysOutOverSLF4J - Replaced standard System.out and System.err PrintStreams with SLF4JPrintStreams\n",
      "04:41:50.485 [main] INFO  u.o.l.s.context.SysOutOverSLF4J - Redirected System.out and System.err to SLF4J for this context\n",
      "04:41:50.485 [main] INFO  a.k.s.c.l.command.KonduitRunCommand - Starting konduit server with an id of 'tensorflow-mnist'\n",
      "04:41:50.786 [vert.x-worker-thread-0] INFO  a.k.s.p.registry.PipelineRegistry - Loaded 28 PipelineStepRunnerFactory instances\n",
      "\n"
     ]
    }
   ],
   "source": [
    "%%bash\n",
    "konduit logs tensorflow-mnist -l 1000"
   ]
  },
  {
   "cell_type": "code",
   "execution_count": 6,
   "metadata": {},
   "outputs": [
    {
     "data": {
      "text/html": [
       "<html>  <div style=\"display: flex; justify-content: center; align-items: center; border: 1px solid black;\">\n",
       "    <div style=\"display: inline-block; margin: 2px\">\n",
       "        <img src=\"test_files/test_input_number_0.png\"/>\n",
       "    </div>\n",
       "\n",
       "    <div style=\"display: inline-block; margin: 10px\">\n",
       "        <img src=\"test_files/test_input_number_1.png\"/>\n",
       "    </div>\n",
       "\n",
       "    <div style=\"display: inline-block; margin: 10px\">\n",
       "        <img src=\"test_files/test_input_number_2.png\"/>\n",
       "    </div>\n",
       "      \n",
       "    <div style=\"display: inline-block; margin: 10px\">\n",
       "        <img src=\"test_files/test_input_number_3.png\"/>\n",
       "    </div>\n",
       "      \n",
       "    <div style=\"display: inline-block; margin: 10px\">\n",
       "        <img src=\"test_files/test_input_number_4.png\"/>\n",
       "    </div>\n",
       "      \n",
       "    <div style=\"display: inline-block; margin: 10px\">\n",
       "        <img src=\"test_files/test_input_number_5.png\"/>\n",
       "    </div>\n",
       "\n",
       "    <div style=\"display: inline-block; margin: 10px\">\n",
       "        <img src=\"test_files/test_input_number_6.png\"/>\n",
       "    </div>\n",
       "\n",
       "    <div style=\"display: inline-block; margin: 10px\">\n",
       "        <img src=\"test_files/test_input_number_7.png\"/>\n",
       "    </div>\n",
       "      \n",
       "    <div style=\"display: inline-block; margin: 10px\">\n",
       "        <img src=\"test_files/test_input_number_8.png\"/>\n",
       "    </div>\n",
       "      \n",
       "    <div style=\"display: inline-block; margin: 10px\">\n",
       "        <img src=\"test_files/test_input_number_9.png\"/>\n",
       "    </div>\n",
       "      \n",
       "</div></html>"
      ]
     },
     "execution_count": 6,
     "metadata": {},
     "output_type": "execute_result"
    }
   ],
   "source": [
    "%%html\n",
    "  <div style=\"display: flex; justify-content: center; align-items: center; border: 1px solid black;\">\n",
    "    <div style=\"display: inline-block; margin: 2px\">\n",
    "        <img src=\"test_files/test_input_number_0.png\"/>\n",
    "    </div>\n",
    "\n",
    "    <div style=\"display: inline-block; margin: 10px\">\n",
    "        <img src=\"test_files/test_input_number_1.png\"/>\n",
    "    </div>\n",
    "\n",
    "    <div style=\"display: inline-block; margin: 10px\">\n",
    "        <img src=\"test_files/test_input_number_2.png\"/>\n",
    "    </div>\n",
    "      \n",
    "    <div style=\"display: inline-block; margin: 10px\">\n",
    "        <img src=\"test_files/test_input_number_3.png\"/>\n",
    "    </div>\n",
    "      \n",
    "    <div style=\"display: inline-block; margin: 10px\">\n",
    "        <img src=\"test_files/test_input_number_4.png\"/>\n",
    "    </div>\n",
    "      \n",
    "    <div style=\"display: inline-block; margin: 10px\">\n",
    "        <img src=\"test_files/test_input_number_5.png\"/>\n",
    "    </div>\n",
    "\n",
    "    <div style=\"display: inline-block; margin: 10px\">\n",
    "        <img src=\"test_files/test_input_number_6.png\"/>\n",
    "    </div>\n",
    "\n",
    "    <div style=\"display: inline-block; margin: 10px\">\n",
    "        <img src=\"test_files/test_input_number_7.png\"/>\n",
    "    </div>\n",
    "      \n",
    "    <div style=\"display: inline-block; margin: 10px\">\n",
    "        <img src=\"test_files/test_input_number_8.png\"/>\n",
    "    </div>\n",
    "      \n",
    "    <div style=\"display: inline-block; margin: 10px\">\n",
    "        <img src=\"test_files/test_input_number_9.png\"/>\n",
    "    </div>\n",
    "      \n",
    "</div>"
   ]
  },
  {
   "cell_type": "code",
   "execution_count": 8,
   "metadata": {},
   "outputs": [
    {
     "name": "stdout",
     "output_type": "stream",
     "text": [
      "10000 requests have been sent to the server. Visit http://localhost:3000/d/lP_JcnHWz/pipeline-metrics?orgId=1&refresh=5s to view the metrics\n"
     ]
    },
    {
     "data": {
      "text/plain": [
       "null"
      ]
     },
     "execution_count": 8,
     "metadata": {},
     "output_type": "execute_result"
    }
   ],
   "source": [
    "import io.vertx.core.*;\n",
    "import io.vertx.ext.web.client.WebClient;\n",
    "import java.util.concurrent.TimeUnit;\n",
    "import io.vertx.ext.web.multipart.MultipartForm;\n",
    "\n",
    "Vertx vertx = Vertx.vertx(new VertxOptions().setMaxEventLoopExecuteTime(10).setMaxEventLoopExecuteTimeUnit(TimeUnit.SECONDS));\n",
    "    \n",
    "WebClient client = WebClient.create(vertx);\n",
    "\n",
    "int numberOfRequests = 1000;\n",
    "int numberOfClasses = 10;\n",
    "\n",
    "for(int j = 0; j < numberOfRequests; j++) {\n",
    "    for (int k = 0; k < numberOfClasses; k++) {\n",
    "        MultipartForm form = MultipartForm.create()\n",
    "                .attribute(\"imageDescription\", \"Image input\" + k)\n",
    "                .binaryFileUpload(\"image\", \"test_input_number_\" + k + \".png\", \"test_files/test_input_number_\" + k + \".png\", \"image/png\");\n",
    "\n",
    "        // Submit the form as a multipart form body\n",
    "        client.post(9008, \"localhost\", \"/predict\")\n",
    "            .putHeader(\"Accept\", \"application/json\")\n",
    "            .sendMultipartForm(form, ar -> {});\n",
    "    }\n",
    "}\n",
    "\n",
    "System.out.format(\"%s requests have been sent to the server. Visit http://localhost:3000/d/lP_JcnHWz/pipeline-metrics?orgId=1&refresh=5s to view the metrics%n\", numberOfRequests * numberOfClasses);"
   ]
  },
  {
   "cell_type": "markdown",
   "metadata": {},
   "source": [
    "## Metrics\n",
    "The cell below also embeds the associated metrics..."
   ]
  },
  {
   "cell_type": "code",
   "execution_count": 7,
   "metadata": {},
   "outputs": [
    {
     "data": {
      "text/html": [
       "<html>\n",
       "<div style=\"display: flex; justify-content: center; align-items: center; border: 1px solid black;\">\n",
       "    <iframe src=\"http://localhost:3000/d/lP_JcnHWz/pipeline-metrics?orgId=1&refresh=5s&kiosk&var-serverName=tensorflow-mnist\" width=1500 height=1300>\n",
       "</div></html>"
      ]
     },
     "execution_count": 7,
     "metadata": {},
     "output_type": "execute_result"
    }
   ],
   "source": [
    "%%html\n",
    "\n",
    "<div style=\"display: flex; justify-content: center; align-items: center; border: 1px solid black;\">\n",
    "    <iframe src=\"http://localhost:3000/d/lP_JcnHWz/pipeline-metrics?orgId=1&refresh=5s&kiosk&var-serverName=tensorflow-mnist\" width=1500 height=1300>\n",
    "</div>"
   ]
  },
  {
   "cell_type": "code",
   "execution_count": null,
   "metadata": {},
   "outputs": [],
   "source": [
    "%%bash\n",
    "konduit predict tensorflow-mnist --input-type multipart \"image=@test_files/test_input_number_0\""
   ]
  },
  {
   "cell_type": "markdown",
   "metadata": {},
   "source": [
    "## View metrics in Browser\n",
    "Visit: http://localhost:3000/d/lP_JcnHWz/pipeline-metrics?orgId=1&refresh=5s&kiosk&var-serverName=tensorflow-mnist to view metrics."
   ]
  }
 ],
 "metadata": {
  "kernelspec": {
   "display_name": "Java",
   "language": "java",
   "name": "java"
  },
  "language_info": {
   "codemirror_mode": "text/x-java",
   "file_extension": ".java",
   "mimetype": "",
   "name": "Java",
   "nbconverter_exporter": "",
   "version": "1.8.0_121"
  },
  "toc": {
   "base_numbering": 1,
   "nav_menu": {},
   "number_sections": false,
   "sideBar": false,
   "skip_h1_title": false,
   "title_cell": "Table of Contents",
   "title_sidebar": "Contents",
   "toc_cell": false,
   "toc_position": {},
   "toc_section_display": false,
   "toc_window_display": false
  }
 },
 "nbformat": 4,
 "nbformat_minor": 4
}
