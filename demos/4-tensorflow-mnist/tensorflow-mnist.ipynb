{
 "cells": [
  {
   "cell_type": "code",
   "execution_count": 5,
   "metadata": {},
   "outputs": [],
   "source": [
    "%classpath add jar ../../konduit.jar"
   ]
  },
  {
   "cell_type": "code",
   "execution_count": 17,
   "metadata": {},
   "outputs": [
    {
     "name": "stdout",
     "output_type": "stream",
     "text": [
      "Stopping konduit server 'tensorflow-mnist'\n",
      "Application 'tensorflow-mnist' terminated with status 0\n",
      "\n"
     ]
    }
   ],
   "source": [
    "%%bash\n",
    "konduit stop tensorflow-mnist"
   ]
  },
  {
   "cell_type": "code",
   "execution_count": 7,
   "metadata": {},
   "outputs": [
    {
     "data": {
      "text/plain": [
       "ai.konduit.PrometheusEndpoint"
      ]
     },
     "execution_count": 7,
     "metadata": {},
     "output_type": "execute_result"
    }
   ],
   "source": [
    "package ai.konduit;\n",
    "\n",
    "import ai.konduit.serving.endpoint.Endpoint;\n",
    "\n",
    "import io.vertx.core.Handler;\n",
    "import io.vertx.core.http.HttpMethod;\n",
    "import io.vertx.ext.web.RoutingContext;\n",
    "\n",
    "import javax.imageio.ImageIO;\n",
    "import java.awt.image.BufferedImage;\n",
    "import java.io.File;\n",
    "import java.io.IOException;\n",
    "import java.util.ArrayList;\n",
    "import java.util.Arrays;\n",
    "import java.util.List;\n",
    "\n",
    "import ai.konduit.serving.pipeline.api.pipeline.PipelineExecutor;\n",
    "\n",
    "import io.micrometer.prometheus.PrometheusConfig;\n",
    "import io.micrometer.prometheus.PrometheusMeterRegistry;\n",
    "import io.micrometer.core.instrument.Counter;\n",
    "import io.micrometer.core.instrument.binder.jvm.JvmMemoryMetrics;\n",
    "import io.micrometer.core.instrument.binder.system.ProcessorMetrics;\n",
    "\n",
    "import java.util.Timer;\n",
    "import java.util.TimerTask;\n",
    "import io.vertx.core.http.HttpHeaders;\n",
    "\n",
    "public class PrometheusEndpoint implements Endpoint {\n",
    "\n",
    "    public static PrometheusMeterRegistry registry;\n",
    "    public static List<Counter> classCounterIncrement = new ArrayList();\n",
    "    public static List<String> labels = Arrays.asList(\"Number_0\", \"Number_1\", \"Number_2\", \"Number_3\", \"Number_4\", \"Number_5\", \"Number_6\", \"Number_7\", \"Number_8\", \"Number_9\");\n",
    "    \n",
    "    static {\n",
    "        registry = new PrometheusMeterRegistry(PrometheusConfig.DEFAULT);\n",
    "        \n",
    "        if (registry != null) {\n",
    "            System.out.println(\"Using metrics registry \" + registry.getClass().getName() + \" for inference\");\n",
    "            new JvmMemoryMetrics().bindTo(registry);\n",
    "            new ProcessorMetrics().bindTo(registry);\n",
    "            \n",
    "            Counter serverUpTimeCounter = registry.counter(\"server.up.time\");\n",
    "            double increment = 5.0;\n",
    "            new Timer().schedule(new TimerTask() {\n",
    "                @Override\n",
    "                public void run() {\n",
    "                    serverUpTimeCounter.increment(increment);\n",
    "                }\n",
    "            }, 5000, ((int) increment) * 1000);\n",
    "            \n",
    "            \n",
    "            for (String label : labels) {\n",
    "                classCounterIncrement.add(Counter.builder(label)\n",
    "                        .description(\"Classification counts seen so far for class label: \" + label)\n",
    "                        .baseUnit(\"classification.outcome\")\n",
    "                        .register(registry));\n",
    "            }            \n",
    "        } else {\n",
    "            System.out.println(\"Not using metrics registry.\");\n",
    "        }\n",
    "    }\n",
    "    \n",
    "    private PipelineExecutor pipelineExecutor;\n",
    "\n",
    "    public PrometheusEndpoint(PipelineExecutor pipelineExecutor) { \n",
    "        this.pipelineExecutor = pipelineExecutor;\n",
    "    }\n",
    "\n",
    "    public HttpMethod type() { return HttpMethod.GET; }\n",
    "\n",
    "    public String path() { return \"/tensorflow-metrics\"; }\n",
    "\n",
    "    public List<String> consumes() { return Arrays.asList(); }\n",
    "\n",
    "    public List<String> produces() { return Arrays.asList(\"text/plain; version=0.0.4; charset=utf-8\"); }\n",
    "\n",
    "    @Override\n",
    "    public Handler<RoutingContext> handler() {\n",
    "        return handler -> handler.response().putHeader(HttpHeaders.CONTENT_TYPE, \"text/plain; version=0.0.4; charset=utf-8\").end(registry.scrape());\n",
    "    }\n",
    "}"
   ]
  },
  {
   "cell_type": "code",
   "execution_count": 8,
   "metadata": {},
   "outputs": [
    {
     "data": {
      "text/plain": [
       "ai.konduit.OCREndPoint"
      ]
     },
     "execution_count": 8,
     "metadata": {},
     "output_type": "execute_result"
    }
   ],
   "source": [
    "package ai.konduit;\n",
    "\n",
    "import ai.konduit.serving.endpoint.Endpoint;\n",
    "import ai.konduit.serving.pipeline.api.data.Data;\n",
    "import ai.konduit.serving.pipeline.api.data.Image;\n",
    "import ai.konduit.serving.pipeline.api.pipeline.Pipeline;\n",
    "import ai.konduit.serving.pipeline.api.pipeline.PipelineExecutor;\n",
    "import ai.konduit.serving.pipeline.impl.format.JavaImageFactory;\n",
    "import ai.konduit.serving.pipeline.registry.ImageFactoryRegistry;\n",
    "import io.vertx.core.Handler;\n",
    "import io.vertx.core.http.HttpMethod;\n",
    "import io.vertx.ext.web.RoutingContext;\n",
    "\n",
    "import javax.imageio.ImageIO;\n",
    "import java.awt.image.BufferedImage;\n",
    "import java.io.File;\n",
    "import java.io.IOException;\n",
    "import java.util.ArrayList;\n",
    "import java.util.Arrays;\n",
    "import java.util.List;\n",
    "\n",
    "import ai.konduit.serving.pipeline.util.ObjectMappers;\n",
    "import ai.konduit.serving.pipeline.registry.NDArrayConverterRegistry;\n",
    "import ai.konduit.serving.data.nd4j.format.ND4JConverters;\n",
    "\n",
    "import io.micrometer.core.instrument.Counter;\n",
    "\n",
    "import org.nd4j.linalg.api.ndarray.INDArray;\n",
    "import org.nd4j.linalg.factory.Nd4j;\n",
    "\n",
    "public class OCREndPoint implements Endpoint {\n",
    "\n",
    "    private PipelineExecutor pipelineExecutor;\n",
    "\n",
    "    private Counter requestsHandled = PrometheusEndpoint.registry.counter(\"requests.handled\");\n",
    "    \n",
    "    public OCREndPoint(PipelineExecutor pipelineExecutor) { \n",
    "        this.pipelineExecutor = pipelineExecutor; \n",
    "        ImageFactoryRegistry.addFactory(new JavaImageFactory()); \n",
    "        NDArrayConverterRegistry.addConverter(new ND4JConverters.Nd4jToSerializedConverter()); \n",
    "        NDArrayConverterRegistry.addConverter(new ND4JConverters.SerializedToNd4jArrConverter());\n",
    "    }\n",
    "\n",
    "    public HttpMethod type() { return HttpMethod.POST; }\n",
    "\n",
    "    public String path() { return \"/infer\"; }\n",
    "\n",
    "    public List<String> consumes() { return Arrays.asList(\"application/octet-stream\",\"multipart/form-data\"); }\n",
    "\n",
    "    public List<String> produces() { return Arrays.asList(\"application/json\"); }\n",
    "\n",
    "    @Override\n",
    "    public Handler<RoutingContext> handler() {\n",
    "        return handler -> {\n",
    "            handler.vertx().executeBlocking(taskHandler -> {\n",
    "                Data image = Data.empty();\n",
    "                \n",
    "                try {\n",
    "                    image.put(\"image\",Image.create(ImageIO.read(new File(handler.fileUploads().iterator().next().uploadedFileName()))));\n",
    "                } catch (IOException e) {\n",
    "                    e.printStackTrace();\n",
    "                }\n",
    "\n",
    "                Data exec = pipelineExecutor.exec(image);\n",
    "                \n",
    "                INDArray output = exec.getNDArray(\"output_layer/Softmax\").getAs(INDArray.class);\n",
    "                handler.response().end(ObjectMappers.toJson(output.data().asFloat()));\n",
    "                taskHandler.complete();\n",
    "                \n",
    "                requestsHandled.increment();\n",
    "                \n",
    "                INDArray argMax = Nd4j.argMax(output, -1);\n",
    "                for(int i = 0; i < argMax.length(); i++) {\n",
    "                    PrometheusEndpoint.classCounterIncrement.get(argMax.getInt(i)).increment();\n",
    "                }\n",
    "            },resultHandler -> {\n",
    "                if(resultHandler.failed()) {\n",
    "                    if(resultHandler.cause() != null)\n",
    "                        if(handler.vertx().exceptionHandler() != null)\n",
    "                            handler.vertx().exceptionHandler().handle(resultHandler.cause());\n",
    "                        else {\n",
    "                            resultHandler.cause().printStackTrace();\n",
    "                        }\n",
    "                    else {\n",
    "                        System.err.println(\"Failed to process classification endpoint async task. Unknown cause.\");\n",
    "                    }\n",
    "                }\n",
    "            });\n",
    "\n",
    "        };\n",
    "    }\n",
    "}"
   ]
  },
  {
   "cell_type": "code",
   "execution_count": 9,
   "metadata": {},
   "outputs": [
    {
     "data": {
      "text/plain": [
       "ai.konduit.OCREndPoints"
      ]
     },
     "execution_count": 9,
     "metadata": {},
     "output_type": "execute_result"
    }
   ],
   "source": [
    "package ai.konduit;\n",
    "\n",
    "import ai.konduit.serving.endpoint.Endpoint;\n",
    "import ai.konduit.serving.endpoint.HttpEndpoints;\n",
    "import ai.konduit.serving.pipeline.api.pipeline.Pipeline;\n",
    "import ai.konduit.serving.pipeline.api.pipeline.PipelineExecutor;\n",
    "\n",
    "import java.util.Arrays;\n",
    "import java.util.List;\n",
    "\n",
    "public class OCREndPoints implements HttpEndpoints {\n",
    "    \n",
    "    @Override\n",
    "    public List<Endpoint> endpoints(Pipeline pipeline, PipelineExecutor pipelineExecutor) {\n",
    "        return Arrays.asList(new OCREndPoint(pipelineExecutor), new PrometheusEndpoint(pipelineExecutor));\n",
    "    }\n",
    "}"
   ]
  },
  {
   "cell_type": "code",
   "execution_count": 10,
   "metadata": {},
   "outputs": [
    {
     "name": "stdout",
     "output_type": "stream",
     "text": [
      "/tmp/beaker7421797752502239521/outDir\n",
      "/home/shams/PycharmProjects/konduit-serving-demo/konduit.jar\n",
      "Saved /tmp/beaker7421797752502239521/outDir:/home/shams/PycharmProjects/konduit-serving-demo/konduit.jar at: /home/shams/PycharmProjects/konduit-serving-demo/demos/4-tensorflow-mnist/classpath\n"
     ]
    },
    {
     "data": {
      "text/plain": [
       "null"
      ]
     },
     "execution_count": 10,
     "metadata": {},
     "output_type": "execute_result"
    }
   ],
   "source": [
    "import java.net.URLClassLoader;\n",
    "import java.net.URL;\n",
    "import java.io.File;\n",
    "\n",
    "import java.util.ArrayList;\n",
    "import java.util.List;\n",
    "\n",
    "import org.apache.commons.io.FileUtils;\n",
    "import java.io.IOException;\n",
    "\n",
    "import java.nio.charset.StandardCharsets;\n",
    "\n",
    "URL[] urls = ((URLClassLoader) Class.forName(\"ai.konduit.serving.vertx.config.InferenceConfiguration\").getClassLoader()).getURLs();\n",
    "List<String> classpaths = new ArrayList<>();\n",
    "\n",
    "for(URL url : urls) {\n",
    "    String singleClassPath = new File(url.toURI()).getAbsolutePath();\n",
    "    System.out.println(singleClassPath);\n",
    "    classpaths.add(singleClassPath);\n",
    "}\n",
    "\n",
    "try {\n",
    "    String output = String.join(File.pathSeparator, classpaths);\n",
    "    File classpathOutputPath = new File(\"classpath\");\n",
    "    FileUtils.writeStringToFile(new File(\"classpath\"), output, StandardCharsets.UTF_8);\n",
    "    System.out.format(\"Saved %s at: %s%n\", output, classpathOutputPath.getAbsolutePath());\n",
    "} catch (IOException e) {\n",
    "    e.printStackTrace();\n",
    "}"
   ]
  },
  {
   "cell_type": "code",
   "execution_count": 11,
   "metadata": {},
   "outputs": [
    {
     "name": "stdout",
     "output_type": "stream",
     "text": [
      "Starting konduit server...\n",
      "Using classpath: /tmp/beaker7421797752502239521/outDir:/home/shams/PycharmProjects/konduit-serving-demo/konduit.jar\n",
      "INFO: Running command /home/shams/miniconda3/envs/beakerx/jre/bin/java -Dkonduit.logs.file.path=/home/shams/.konduit-serving/command_logs/tensorflow-mnist.log -Dlogback.configurationFile=/tmp/logback-run_command_819daf12dc5f49ae.xml ai.konduit.serving.cli.launcher.KonduitServingLauncher run --instances 1 -s inference -c tensorflow.json -Dserving.id=tensorflow-mnist\n",
      "For server status, execute: 'java ai.konduit.serving.cli.launcher.KonduitServingLauncher list'\n",
      "For logs, execute: 'java ai.konduit.serving.cli.launcher.KonduitServingLauncher logs tensorflow-mnist'\n",
      "\n"
     ]
    }
   ],
   "source": [
    "%%bash\n",
    "java -cp $(cat classpath) ai.konduit.serving.cli.launcher.KonduitServingLauncher serve -id tensorflow-mnist -c tensorflow.json -rwm -b"
   ]
  },
  {
   "cell_type": "code",
   "execution_count": 13,
   "metadata": {},
   "outputs": [
    {
     "name": "stdout",
     "output_type": "stream",
     "text": [
      "11:21:22.406 [main] INFO  a.k.s.c.l.command.KonduitRunCommand - Processing configuration: /home/shams/PycharmProjects/konduit-serving-demo/demos/4-tensorflow-mnist/tensorflow.json\n",
      "11:21:22.412 [main] INFO  u.o.l.s.context.SysOutOverSLF4J - Replaced standard System.out and System.err PrintStreams with SLF4JPrintStreams\n",
      "11:21:22.414 [main] INFO  u.o.l.s.context.SysOutOverSLF4J - Redirected System.out and System.err to SLF4J for this context\n",
      "11:21:22.414 [main] INFO  a.k.s.c.l.command.KonduitRunCommand - Starting konduit server with an id of 'tensorflow-mnist'\n",
      "11:21:22.734 [vert.x-worker-thread-0] INFO  a.k.s.p.registry.PipelineRegistry - Loaded 28 PipelineStepRunnerFactory instances\n",
      "11:21:26.414 [vert.x-worker-thread-0] INFO  a.k.s.v.verticle.InferenceVerticle - \n",
      "\n",
      "####################################################################\n",
      "#                                                                  #\n",
      "#    |  /   _ \\   \\ |  _ \\  |  | _ _| __ __|    |  /     |  /      #\n",
      "#    . <   (   | .  |  |  | |  |   |     |      . <      . <       #\n",
      "#   _|\\_\\ \\___/ _|\\_| ___/ \\__/  ___|   _|     _|\\_\\ _) _|\\_\\ _)   #\n",
      "#                                                                  #\n",
      "####################################################################\n",
      "\n",
      "11:21:26.414 [vert.x-worker-thread-0] INFO  a.k.s.v.verticle.InferenceVerticle - Pending server start, please wait...\n",
      "11:21:26.429 [vert.x-eventloop-thread-0] INFO  a.k.s.v.p.h.v.InferenceVerticleHttp - MetricsProvider implementation detected, adding endpoint /metrics\n",
      "11:21:26.453 [vert.x-eventloop-thread-0] INFO  ai.konduit.PrometheusEndpoint - Using metrics registry io.micrometer.prometheus.PrometheusMeterRegistry for inference\n",
      "11:21:26.665 [vert.x-eventloop-thread-0] INFO  a.k.s.v.verticle.InferenceVerticle - Writing inspection data at '/home/shams/.konduit-serving/servers/12129.data' with configuration: \n",
      "{\n",
      "  \"host\" : \"0.0.0.0\",\n",
      "  \"port\" : 9008,\n",
      "  \"protocol\" : \"HTTP\",\n",
      "  \"customEndpoints\" : [ \"ai.konduit.OCREndPoints\" ],\n",
      "  \"pipeline\" : {\n",
      "    \"steps\" : [ {\n",
      "      \"@type\" : \"IMAGE_TO_NDARRAY\",\n",
      "      \"config\" : {\n",
      "        \"height\" : 28,\n",
      "        \"width\" : 28,\n",
      "        \"dataType\" : \"FLOAT\",\n",
      "        \"includeMinibatchDim\" : true,\n",
      "        \"aspectRatioHandling\" : \"CENTER_CROP\",\n",
      "        \"format\" : \"CHANNELS_FIRST\",\n",
      "        \"channelLayout\" : \"GRAYSCALE\",\n",
      "        \"normalization\" : {\n",
      "          \"type\" : \"SCALE\"\n",
      "        },\n",
      "        \"listHandling\" : \"NONE\"\n",
      "      },\n",
      "      \"keys\" : [ \"image\" ],\n",
      "      \"outputNames\" : [ \"input_layer\" ],\n",
      "      \"keepOtherValues\" : true,\n",
      "      \"metadata\" : false,\n",
      "      \"metadataKey\" : \"@ImageToNDArrayStepMetadata\"\n",
      "    }, {\n",
      "      \"@type\" : \"LOGGING\",\n",
      "      \"logLevel\" : \"INFO\",\n",
      "      \"log\" : \"KEYS_AND_VALUES\"\n",
      "    }, {\n",
      "      \"@type\" : \"ND4JTENSORFLOW\",\n",
      "      \"inputNames\" : [ \"input_layer\" ],\n",
      "      \"outputNames\" : [ \"output_layer/Softmax\" ],\n",
      "      \"constants\" : { },\n",
      "      \"modelUri\" : \"tensorflow.pb\"\n",
      "    } ]\n",
      "  }\n",
      "}\n",
      "11:21:26.665 [vert.x-eventloop-thread-0] INFO  a.k.s.v.p.h.v.InferenceVerticleHttp - Inference HTTP server is listening on host: '0.0.0.0'\n",
      "11:21:26.665 [vert.x-eventloop-thread-0] INFO  a.k.s.v.p.h.v.InferenceVerticleHttp - Inference HTTP server started on port 9008 with 3 pipeline steps\n",
      "\n"
     ]
    }
   ],
   "source": [
    "%%bash\n",
    "konduit logs tensorflow-mnist -l 1000"
   ]
  },
  {
   "cell_type": "code",
   "execution_count": 14,
   "metadata": {},
   "outputs": [
    {
     "name": "stdout",
     "output_type": "stream",
     "text": [
      "\n",
      "Listing konduit servers...\n",
      "\n",
      " #   | ID                             | TYPE       | URL                  | PID     | STATUS     \n",
      " 1   | tensorflow-mnist               | inference  | 0.0.0.0:9008         | 12129   | started    \n",
      "\n",
      "\n"
     ]
    }
   ],
   "source": [
    "%%bash\n",
    "konduit list"
   ]
  },
  {
   "cell_type": "code",
   "execution_count": 15,
   "metadata": {},
   "outputs": [
    {
     "data": {
      "text/html": [
       "<html>  <div id=\"banner\">\n",
       "    <div style=\"display: inline-block\">\n",
       "        <img src=\"test_files/test_input_number_0.png\"/>\n",
       "    </div>\n",
       "\n",
       "    <div style=\"display: inline-block\">\n",
       "        <img src=\"test_files/test_input_number_1.png\"/>\n",
       "    </div>\n",
       "\n",
       "    <div style=\"display: inline-block\">\n",
       "        <img src=\"test_files/test_input_number_2.png\"/>\n",
       "    </div>\n",
       "      \n",
       "    <div style=\"display: inline-block\">\n",
       "        <img src=\"test_files/test_input_number_3.png\"/>\n",
       "    </div>\n",
       "      \n",
       "    <div style=\"display: inline-block\">\n",
       "        <img src=\"test_files/test_input_number_4.png\"/>\n",
       "    </div>\n",
       "      \n",
       "    <div style=\"display: inline-block\">\n",
       "        <img src=\"test_files/test_input_number_5.png\"/>\n",
       "    </div>\n",
       "\n",
       "    <div style=\"display: inline-block\">\n",
       "        <img src=\"test_files/test_input_number_6.png\"/>\n",
       "    </div>\n",
       "\n",
       "    <div style=\"display: inline-block\">\n",
       "        <img src=\"test_files/test_input_number_7.png\"/>\n",
       "    </div>\n",
       "      \n",
       "    <div style=\"display: inline-block\">\n",
       "        <img src=\"test_files/test_input_number_8.png\"/>\n",
       "    </div>\n",
       "      \n",
       "    <div style=\"display: inline-block\">\n",
       "        <img src=\"test_files/test_input_number_9.png\"/>\n",
       "    </div>\n",
       "      \n",
       "</div></html>"
      ]
     },
     "execution_count": 15,
     "metadata": {},
     "output_type": "execute_result"
    }
   ],
   "source": [
    "%%html\n",
    "  <div id=\"banner\">\n",
    "    <div style=\"display: inline-block\">\n",
    "        <img src=\"test_files/test_input_number_0.png\"/>\n",
    "    </div>\n",
    "\n",
    "    <div style=\"display: inline-block\">\n",
    "        <img src=\"test_files/test_input_number_1.png\"/>\n",
    "    </div>\n",
    "\n",
    "    <div style=\"display: inline-block\">\n",
    "        <img src=\"test_files/test_input_number_2.png\"/>\n",
    "    </div>\n",
    "      \n",
    "    <div style=\"display: inline-block\">\n",
    "        <img src=\"test_files/test_input_number_3.png\"/>\n",
    "    </div>\n",
    "      \n",
    "    <div style=\"display: inline-block\">\n",
    "        <img src=\"test_files/test_input_number_4.png\"/>\n",
    "    </div>\n",
    "      \n",
    "    <div style=\"display: inline-block\">\n",
    "        <img src=\"test_files/test_input_number_5.png\"/>\n",
    "    </div>\n",
    "\n",
    "    <div style=\"display: inline-block\">\n",
    "        <img src=\"test_files/test_input_number_6.png\"/>\n",
    "    </div>\n",
    "\n",
    "    <div style=\"display: inline-block\">\n",
    "        <img src=\"test_files/test_input_number_7.png\"/>\n",
    "    </div>\n",
    "      \n",
    "    <div style=\"display: inline-block\">\n",
    "        <img src=\"test_files/test_input_number_8.png\"/>\n",
    "    </div>\n",
    "      \n",
    "    <div style=\"display: inline-block\">\n",
    "        <img src=\"test_files/test_input_number_9.png\"/>\n",
    "    </div>\n",
    "      \n",
    "</div>"
   ]
  },
  {
   "cell_type": "code",
   "execution_count": 16,
   "metadata": {},
   "outputs": [
    {
     "data": {
      "text/plain": [
       "null"
      ]
     },
     "execution_count": 16,
     "metadata": {},
     "output_type": "execute_result"
    }
   ],
   "source": [
    "import io.vertx.core.*;\n",
    "import io.vertx.ext.web.client.WebClient;\n",
    "import java.util.concurrent.TimeUnit;\n",
    "import io.vertx.ext.web.multipart.MultipartForm;\n",
    "\n",
    "Vertx vertx = Vertx.vertx(new VertxOptions().setMaxEventLoopExecuteTime(10).setMaxEventLoopExecuteTimeUnit(TimeUnit.SECONDS));\n",
    "    \n",
    "WebClient client = WebClient.create(vertx);\n",
    "\n",
    "for(int j = 0; j < 10000; j++) {\n",
    "    for (int k = 0; k < 10; k++) {\n",
    "        MultipartForm form = MultipartForm.create()\n",
    "                .attribute(\"imageDescription\", \"Image input\" + k)\n",
    "                .binaryFileUpload(\"image\", \"test_input_number_\" + k + \".png\", \"test_files/test_input_number_\" + k + \".png\", \"image/png\");\n",
    "\n",
    "        // Submit the form as a multipart form body\n",
    "        client.post(9008, \"localhost\", \"/infer\")\n",
    "            .sendMultipartForm(form, ar -> {});\n",
    "    }\n",
    "}"
   ]
  },
  {
   "cell_type": "markdown",
   "metadata": {},
   "source": [
    "## Metrics\n",
    "Visit: http://localhost:3000/d/lP_JcnHWz-local/pipeline-metrics?orgId=1&refresh=5s to view metrics"
   ]
  }
 ],
 "metadata": {
  "kernelspec": {
   "display_name": "Java",
   "language": "java",
   "name": "java"
  },
  "language_info": {
   "codemirror_mode": "text/x-java",
   "file_extension": ".java",
   "mimetype": "",
   "name": "Java",
   "nbconverter_exporter": "",
   "version": "1.8.0_121"
  },
  "toc": {
   "base_numbering": 1,
   "nav_menu": {},
   "number_sections": false,
   "sideBar": false,
   "skip_h1_title": false,
   "title_cell": "Table of Contents",
   "title_sidebar": "Contents",
   "toc_cell": false,
   "toc_position": {},
   "toc_section_display": false,
   "toc_window_display": false
  }
 },
 "nbformat": 4,
 "nbformat_minor": 4
}