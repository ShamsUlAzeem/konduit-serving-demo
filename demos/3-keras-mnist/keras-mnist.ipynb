{
 "cells": [
  {
   "cell_type": "markdown",
   "metadata": {},
   "source": [
    "# Running and MNIST dataset classifier through CUSTOM image endpoints\n",
    "---\n",
    "## Adding package to the classpath\n",
    "First of all we need to add the main package to the classpath so that the notebook can load all the necessary libraries from konduit-serving into the Jupyter notebook kernel.\n",
    "\n",
    "Classpaths can be considered similar to `site-packages` in the python ecosystem where each library that's to be imported to your code is loaded from."
   ]
  },
  {
   "cell_type": "code",
   "execution_count": 1,
   "metadata": {},
   "outputs": [
    {
     "data": {
      "application/vnd.jupyter.widget-view+json": {
       "model_id": "674df28d-3dfa-463f-91e6-611bc9807938",
       "version_major": 2,
       "version_minor": 0
      },
      "method": "display_data"
     },
     "metadata": {},
     "output_type": "display_data"
    }
   ],
   "source": [
    "%classpath add jar ../../konduit.jar"
   ]
  },
  {
   "cell_type": "code",
   "execution_count": 2,
   "metadata": {},
   "outputs": [
    {
     "name": "stdout",
     "output_type": "stream",
     "text": [
      "import tensorflow as tf\n",
      "\n",
      "from keras.datasets import mnist\n",
      "\n",
      "\n",
      "tensorflow_version = tf.__version__\n",
      "print(tensorflow_version)\n",
      "\n",
      "# Load data\n",
      "train_data, test_data = mnist.load_data()\n",
      "x_train, y_train = train_data\n",
      "x_test, y_test = test_data\n",
      "\n",
      "# Normalize\n",
      "x_train = x_train / 255.0\n",
      "x_test = x_test / 255.0\n",
      "\n",
      "\n",
      "def get_model():\n",
      "    inputs = tf.keras.layers.Input(shape=(28, 28), name=\"input_layer\")\n",
      "    x = tf.keras.layers.Flatten()(inputs)\n",
      "    x = tf.keras.layers.Dense(200, activation=\"relu\")(x)\n",
      "    x = tf.keras.layers.Dense(100, activation=\"relu\")(x)\n",
      "    x = tf.keras.layers.Dense(60, activation=\"relu\")(x)\n",
      "    x = tf.keras.layers.Dense(30, activation=\"relu\")(x)\n",
      "    outputs = tf.keras.layers.Dense(10, activation=\"softmax\", name=\"output_layer\")(x)\n",
      "    model = tf.keras.Model(inputs=inputs, outputs=outputs)\n",
      "    model.compile(\n",
      "        optimizer='sgd',\n",
      "        loss='sparse_categorical_crossentropy',\n",
      "        metrics=['accuracy']\n",
      "    )\n",
      "\n",
      "    return model\n",
      "\n",
      "\n",
      "def train(epochs=8):\n",
      "    model = get_model()\n",
      "    model.fit(x_train, y_train, epochs=epochs)\n",
      "\n",
      "    model.summary()\n",
      "\n",
      "    print(\"\\n\\n---\\n\"\n",
      "          \"Inputs: {}\".format(model.inputs))\n",
      "    print(\"Outputs: {}\\n---\".format(model.outputs))\n",
      "\n",
      "    return model\n",
      "\n",
      "\n",
      "train(8).save(\"keras.h5\", save_format=\"h5\")\n",
      "\n",
      "\n"
     ]
    }
   ],
   "source": [
    "%%bash\n",
    "less train.py"
   ]
  },
  {
   "cell_type": "code",
   "execution_count": 3,
   "metadata": {},
   "outputs": [
    {
     "name": "stdout",
     "output_type": "stream",
     "text": [
      "Starting konduit server...\n",
      "Using classpath: /root/konduit/bin/../konduit.jar\n",
      "INFO: Running command /root/miniconda/jre/bin/java -Dkonduit.logs.file.path=/root/.konduit-serving/command_logs/keras-mnist.log -Dlogback.configurationFile=/tmp/logback-run_command_b3fa9b25ed4c41f9.xml -jar /root/konduit/bin/../konduit.jar run --instances 1 -s inference -c keras.json -Dserving.id=keras-mnist\n",
      "For server status, execute: 'konduit list'\n",
      "For logs, execute: 'konduit logs keras-mnist'\n",
      "\n"
     ]
    }
   ],
   "source": [
    "%%bash\n",
    "konduit serve -id keras-mnist -c keras.json -rwm -b"
   ]
  },
  {
   "cell_type": "code",
   "execution_count": 4,
   "metadata": {},
   "outputs": [
    {
     "name": "stdout",
     "output_type": "stream",
     "text": [
      "\n",
      "Listing konduit servers...\n",
      "\n",
      " #   | ID                             | TYPE       | URL                  | PID     | STATUS     \n",
      " 1   | keras-mnist                    | inference  | waiting...           | 1200    | Starting: Execute 'konduit logs keras-mnist' for more details... \n",
      "\n",
      "\n"
     ]
    }
   ],
   "source": [
    "%%bash\n",
    "konduit list"
   ]
  },
  {
   "cell_type": "code",
   "execution_count": 5,
   "metadata": {},
   "outputs": [
    {
     "name": "stdout",
     "output_type": "stream",
     "text": [
      "15:00:08.259 [vert.x-worker-thread-0] ERROR o.n.common.config.ND4JClassLoading - Cannot find class [org.canova.api.io.data.DoubleWritable] of provided class-loader.\n",
      "15:00:08.310 [vert.x-worker-thread-0] ERROR o.n.common.config.ND4JClassLoading - Cannot find class [org.nd4j.linalg.jblas.JblasBackend] of provided class-loader.\n",
      "15:00:08.310 [vert.x-worker-thread-0] ERROR o.n.common.config.ND4JClassLoading - Cannot find class [org.canova.api.io.data.DoubleWritable] of provided class-loader.\n",
      "15:00:08.489 [vert.x-worker-thread-0] INFO  org.nd4j.nativeblas.NativeOpsHolder - Number of threads used for linear algebra: 8\n",
      "15:00:08.490 [vert.x-worker-thread-0] WARN  o.n.l.c.nativecpu.CpuNDArrayFactory - *********************************** CPU Feature Check Warning ***********************************\n",
      "15:00:08.490 [vert.x-worker-thread-0] WARN  o.n.l.c.nativecpu.CpuNDArrayFactory - Warning: Initializing ND4J with Generic x86 binary on a CPU with AVX/AVX2 support\n",
      "15:00:08.490 [vert.x-worker-thread-0] WARN  o.n.l.c.nativecpu.CpuNDArrayFactory - Using ND4J with AVX/AVX2 will improve performance. See deeplearning4j.org/cpu for more details\n",
      "15:00:08.490 [vert.x-worker-thread-0] WARN  o.n.l.c.nativecpu.CpuNDArrayFactory - Or set environment variable ND4J_IGNORE_AVX=true to suppress this warning\n",
      "15:00:08.490 [vert.x-worker-thread-0] WARN  o.n.l.c.nativecpu.CpuNDArrayFactory - *************************************************************************************************\n",
      "15:00:08.493 [vert.x-worker-thread-0] INFO  org.nd4j.nativeblas.Nd4jBlas - Number of threads used for OpenMP BLAS: 8\n",
      "15:00:08.495 [vert.x-worker-thread-0] INFO  o.n.l.a.o.e.DefaultOpExecutioner - Backend used: [CPU]; OS: [Linux]\n",
      "15:00:08.495 [vert.x-worker-thread-0] INFO  o.n.l.a.o.e.DefaultOpExecutioner - Cores: [8]; Memory: [6.9GB];\n",
      "15:00:08.495 [vert.x-worker-thread-0] INFO  o.n.l.a.o.e.DefaultOpExecutioner - Blas vendor: [OPENBLAS]\n",
      "15:00:08.555 [vert.x-worker-thread-0] INFO  o.d.nn.graph.ComputationGraph - Starting ComputationGraph with WorkspaceModes set to [training: ENABLED; inference: ENABLED], cacheMode set to [NONE]\n",
      "15:00:08.575 [vert.x-worker-thread-0] INFO  a.k.s.m.d.step.DL4JRunner - \n",
      "15:00:08.576 [vert.x-worker-thread-0] INFO  a.k.s.v.verticle.InferenceVerticle - \n",
      "\n",
      "####################################################################\n",
      "#                                                                  #\n",
      "#    |  /   _ \\   \\ |  _ \\  |  | _ _| __ __|    |  /     |  /      #\n",
      "#    . <   (   | .  |  |  | |  |   |     |      . <      . <       #\n",
      "#   _|\\_\\ \\___/ _|\\_| ___/ \\__/  ___|   _|     _|\\_\\ _) _|\\_\\ _)   #\n",
      "#                                                                  #\n",
      "####################################################################\n",
      "\n",
      "15:00:08.576 [vert.x-worker-thread-0] INFO  a.k.s.v.verticle.InferenceVerticle - Pending server start, please wait...\n",
      "15:00:08.638 [vert.x-eventloop-thread-0] INFO  a.k.s.v.p.h.v.InferenceVerticleHttp - MetricsProvider implementation detected, adding endpoint /metrics\n",
      "15:00:08.654 [vert.x-eventloop-thread-0] INFO  a.k.s.v.p.h.v.InferenceVerticleHttp - No GPU binaries found. Selecting and scraping only CPU metrics.\n",
      "15:00:08.752 [vert.x-eventloop-thread-0] INFO  a.k.s.v.verticle.InferenceVerticle - Writing inspection data at '/root/.konduit-serving/servers/1200.data' with configuration: \n",
      "{\n",
      "  \"host\" : \"localhost\",\n",
      "  \"port\" : 40987,\n",
      "  \"useSsl\" : false,\n",
      "  \"protocol\" : \"HTTP\",\n",
      "  \"staticContentRoot\" : \"static-content\",\n",
      "  \"staticContentUrl\" : \"/static-content\",\n",
      "  \"staticContentIndexPage\" : \"/index.html\",\n",
      "  \"kafkaConfiguration\" : {\n",
      "    \"startHttpServerForKafka\" : true,\n",
      "    \"httpKafkaHost\" : \"localhost\",\n",
      "    \"httpKafkaPort\" : 0,\n",
      "    \"consumerTopicName\" : \"inference-in\",\n",
      "    \"consumerKeyDeserializerClass\" : \"io.vertx.kafka.client.serialization.JsonObjectDeserializer\",\n",
      "    \"consumerValueDeserializerClass\" : \"io.vertx.kafka.client.serialization.JsonObjectDeserializer\",\n",
      "    \"consumerGroupId\" : \"konduit-serving-consumer-group\",\n",
      "    \"consumerAutoOffsetReset\" : \"earliest\",\n",
      "    \"consumerAutoCommit\" : \"true\",\n",
      "    \"producerTopicName\" : \"inference-out\",\n",
      "    \"producerKeySerializerClass\" : \"io.vertx.kafka.client.serialization.JsonObjectSerializer\",\n",
      "    \"producerValueSerializerClass\" : \"io.vertx.kafka.client.serialization.JsonObjectSerializer\",\n",
      "    \"producerAcks\" : \"1\"\n",
      "  },\n",
      "  \"mqttConfiguration\" : { },\n",
      "  \"customEndpoints\" : [ ],\n",
      "  \"pipeline\" : {\n",
      "    \"steps\" : [ {\n",
      "      \"@type\" : \"IMAGE_TO_NDARRAY\",\n",
      "      \"config\" : {\n",
      "        \"height\" : 28,\n",
      "        \"width\" : 28,\n",
      "        \"dataType\" : \"FLOAT\",\n",
      "        \"includeMinibatchDim\" : true,\n",
      "        \"aspectRatioHandling\" : \"CENTER_CROP\",\n",
      "        \"format\" : \"CHANNELS_FIRST\",\n",
      "        \"channelLayout\" : \"GRAYSCALE\",\n",
      "        \"normalization\" : {\n",
      "          \"type\" : \"SCALE\"\n",
      "        },\n",
      "        \"listHandling\" : \"NONE\"\n",
      "      },\n",
      "      \"keys\" : [ \"image\" ],\n",
      "      \"outputNames\" : [ \"input_layer\" ],\n",
      "      \"keepOtherValues\" : true,\n",
      "      \"metadata\" : false,\n",
      "      \"metadataKey\" : \"@ImageToNDArrayStepMetadata\"\n",
      "    }, {\n",
      "      \"@type\" : \"LOGGING\",\n",
      "      \"logLevel\" : \"INFO\",\n",
      "      \"log\" : \"KEYS_AND_VALUES\"\n",
      "    }, {\n",
      "      \"@type\" : \"KERAS\",\n",
      "      \"modelUri\" : \"keras.h5\",\n",
      "      \"inputNames\" : [ \"input_layer\" ],\n",
      "      \"outputNames\" : [ \"output_layer\" ]\n",
      "    }, {\n",
      "      \"@type\" : \"CLASSIFIER_OUTPUT\",\n",
      "      \"inputName\" : \"output_layer\",\n",
      "      \"returnLabel\" : true,\n",
      "      \"returnIndex\" : true,\n",
      "      \"returnProb\" : true,\n",
      "      \"labelName\" : \"label\",\n",
      "      \"indexName\" : \"index\",\n",
      "      \"probName\" : \"prob\",\n",
      "      \"labels\" : [ \"0\", \"1\", \"2\", \"3\", \"4\", \"5\", \"6\", \"7\", \"8\", \"9\" ],\n",
      "      \"allProbabilities\" : false\n",
      "    } ]\n",
      "  }\n",
      "}\n",
      "15:00:08.752 [vert.x-eventloop-thread-0] INFO  a.k.s.v.p.h.v.InferenceVerticleHttp - Inference HTTP server is listening on host: 'localhost'\n",
      "15:00:08.752 [vert.x-eventloop-thread-0] INFO  a.k.s.v.p.h.v.InferenceVerticleHttp - Inference HTTP server started on port 40987 with 4 pipeline steps\n",
      "\n"
     ]
    }
   ],
   "source": [
    "%%bash\n",
    "konduit logs keras-mnist --lines 100"
   ]
  },
  {
   "cell_type": "code",
   "execution_count": 6,
   "metadata": {},
   "outputs": [
    {
     "data": {
      "text/html": [
       "<html><img src=\"test-image.jpg\" alt=\"title\"></html>"
      ]
     },
     "execution_count": 6,
     "metadata": {},
     "output_type": "execute_result"
    }
   ],
   "source": [
    "%%html\n",
    "<img src=\"test-image.jpg\" alt=\"title\">"
   ]
  },
  {
   "cell_type": "code",
   "execution_count": 7,
   "metadata": {},
   "outputs": [
    {
     "name": "stdout",
     "output_type": "stream",
     "text": [
      "{\n",
      "  \"output_layer\" : [ [ 9.0376153E-7, 1.0595608E-8, 1.3115231E-5, 0.44657645, 6.748624E-12, 0.5524258, 1.848306E-7, 2.7652052E-9, 9.76023E-4, 7.5933513E-6 ] ],\n",
      "  \"prob\" : 0.5524258017539978,\n",
      "  \"index\" : 5,\n",
      "  \"label\" : \"5\"\n",
      "}\n",
      "\n"
     ]
    }
   ],
   "source": [
    "%%bash\n",
    "konduit predict keras-mnist -it multipart 'image=@test-image.jpg'"
   ]
  },
  {
   "cell_type": "code",
   "execution_count": 8,
   "metadata": {},
   "outputs": [
    {
     "name": "stdout",
     "output_type": "stream",
     "text": [
      "Stopping konduit server 'keras-mnist'\n",
      "Application 'keras-mnist' terminated with status 0\n",
      "\n"
     ]
    }
   ],
   "source": [
    "%%bash\n",
    "konduit stop keras-mnist"
   ]
  }
 ],
 "metadata": {
  "kernelspec": {
   "display_name": "Java",
   "language": "java",
   "name": "java"
  },
  "language_info": {
   "codemirror_mode": "text/x-java",
   "file_extension": ".java",
   "mimetype": "",
   "name": "Java",
   "nbconverter_exporter": "",
   "version": "1.8.0_121"
  },
  "toc": {
   "base_numbering": 1,
   "nav_menu": {},
   "number_sections": false,
   "sideBar": false,
   "skip_h1_title": false,
   "title_cell": "Table of Contents",
   "title_sidebar": "Contents",
   "toc_cell": false,
   "toc_position": {},
   "toc_section_display": false,
   "toc_window_display": false
  }
 },
 "nbformat": 4,
 "nbformat_minor": 4
}
