{
 "cells": [
  {
   "cell_type": "markdown",
   "metadata": {},
   "source": [
    "# Running and MNIST dataset classifier through CUSTOM image endpoints\n",
    "---\n",
    "## Adding package to the classpath\n",
    "First of all we need to add the main package to the classpath so that the notebook can load all the necessary libraries from konduit-serving into the Jupyter notebook kernel.\n",
    "\n",
    "Classpaths can be considered similar to `site-packages` in the python ecosystem where each library that's to be imported to your code is loaded from."
   ]
  },
  {
   "cell_type": "code",
   "execution_count": 1,
   "metadata": {},
   "outputs": [
    {
     "data": {
      "application/vnd.jupyter.widget-view+json": {
       "model_id": "135cf1ca-82ae-47cb-85ed-ee48b6a828cf",
       "version_major": 2,
       "version_minor": 0
      },
      "method": "display_data"
     },
     "metadata": {},
     "output_type": "display_data"
    }
   ],
   "source": [
    "%classpath add jar ../../konduit.jar"
   ]
  },
  {
   "cell_type": "code",
   "execution_count": 2,
   "metadata": {},
   "outputs": [
    {
     "name": "stdout",
     "output_type": "stream",
     "text": [
      "import tensorflow as tf\n",
      "\n",
      "from keras.datasets import mnist\n",
      "\n",
      "\n",
      "tensorflow_version = tf.__version__\n",
      "print(tensorflow_version)\n",
      "\n",
      "# Load data\n",
      "train_data, test_data = mnist.load_data()\n",
      "x_train, y_train = train_data\n",
      "x_test, y_test = test_data\n",
      "\n",
      "# Normalize\n",
      "x_train = x_train / 255.0\n",
      "x_test = x_test / 255.0\n",
      "\n",
      "\n",
      "def get_model():\n",
      "    inputs = tf.keras.layers.Input(shape=(28, 28), name=\"input_layer\")\n",
      "    x = tf.keras.layers.Flatten()(inputs)\n",
      "    x = tf.keras.layers.Dense(200, activation=\"relu\")(x)\n",
      "    x = tf.keras.layers.Dense(100, activation=\"relu\")(x)\n",
      "    x = tf.keras.layers.Dense(60, activation=\"relu\")(x)\n",
      "    x = tf.keras.layers.Dense(30, activation=\"relu\")(x)\n",
      "    outputs = tf.keras.layers.Dense(10, activation=\"softmax\", name=\"output_layer\")(x)\n",
      "    model = tf.keras.Model(inputs=inputs, outputs=outputs)\n",
      "    model.compile(\n",
      "        optimizer='sgd',\n",
      "        loss='sparse_categorical_crossentropy',\n",
      "        metrics=['accuracy']\n",
      "    )\n",
      "\n",
      "    return model\n",
      "\n",
      "\n",
      "def train(epochs=8):\n",
      "    model = get_model()\n",
      "    model.fit(x_train, y_train, epochs=epochs)\n",
      "\n",
      "    model.summary()\n",
      "\n",
      "    print(\"\\n\\n---\\n\"\n",
      "          \"Inputs: {}\".format(model.inputs))\n",
      "    print(\"Outputs: {}\\n---\".format(model.outputs))\n",
      "\n",
      "    return model\n",
      "\n",
      "\n",
      "train(8).save(\"keras.h5\", save_format=\"h5\")\n",
      "\n",
      "\n"
     ]
    }
   ],
   "source": [
    "%%bash\n",
    "less train.py"
   ]
  },
  {
   "cell_type": "code",
   "execution_count": 3,
   "metadata": {},
   "outputs": [
    {
     "data": {
      "text/plain": [
       "ai.konduit.OCREndPoint"
      ]
     },
     "execution_count": 3,
     "metadata": {},
     "output_type": "execute_result"
    }
   ],
   "source": [
    "package ai.konduit;\n",
    "\n",
    "import ai.konduit.serving.endpoint.Endpoint;\n",
    "import ai.konduit.serving.pipeline.api.data.Data;\n",
    "import ai.konduit.serving.pipeline.api.data.Image;\n",
    "import ai.konduit.serving.pipeline.api.pipeline.Pipeline;\n",
    "import ai.konduit.serving.pipeline.api.pipeline.PipelineExecutor;\n",
    "import ai.konduit.serving.pipeline.impl.format.JavaImageFactory;\n",
    "import ai.konduit.serving.pipeline.registry.ImageFactoryRegistry;\n",
    "import io.vertx.core.Handler;\n",
    "import io.vertx.core.http.HttpMethod;\n",
    "import io.vertx.ext.web.RoutingContext;\n",
    "\n",
    "import javax.imageio.ImageIO;\n",
    "import java.awt.image.BufferedImage;\n",
    "import java.io.File;\n",
    "import java.io.IOException;\n",
    "import java.util.ArrayList;\n",
    "import java.util.Arrays;\n",
    "import java.util.List;\n",
    "\n",
    "import ai.konduit.serving.pipeline.util.ObjectMappers;\n",
    "import ai.konduit.serving.pipeline.registry.NDArrayConverterRegistry;\n",
    "import ai.konduit.serving.data.nd4j.format.ND4JConverters;\n",
    "\n",
    "public class OCREndPoint implements Endpoint {\n",
    "\n",
    "    private PipelineExecutor pipelineExecutor;\n",
    "\n",
    "    public OCREndPoint(PipelineExecutor pipelineExecutor) { \n",
    "        this.pipelineExecutor = pipelineExecutor; \n",
    "        ImageFactoryRegistry.addFactory(new JavaImageFactory()); \n",
    "        NDArrayConverterRegistry.addConverter(new ND4JConverters.Nd4jToSerializedConverter()); \n",
    "        NDArrayConverterRegistry.addConverter(new ND4JConverters.SerializedToNd4jArrConverter());\n",
    "    }\n",
    "\n",
    "    public HttpMethod type() { return HttpMethod.POST; }\n",
    "\n",
    "    public String path() { return \"/infer\"; }\n",
    "\n",
    "    public List<String> consumes() { return Arrays.asList(\"application/octet-stream\",\"multipart/form-data\"); }\n",
    "\n",
    "    public List<String> produces() { return Arrays.asList(\"application/json\"); }\n",
    "\n",
    "    @Override\n",
    "    public Handler<RoutingContext> handler() {\n",
    "        return handler -> {\n",
    "            handler.vertx().executeBlocking(taskHandler -> {\n",
    "                Data image = Data.empty();\n",
    "                \n",
    "                try {\n",
    "                    image.put(\"image\",Image.create(ImageIO.read(new File(handler.fileUploads().iterator().next().uploadedFileName()))));\n",
    "                } catch (IOException e) {\n",
    "                    e.printStackTrace();\n",
    "                }\n",
    "\n",
    "                Data exec = pipelineExecutor.exec(image);\n",
    "                \n",
    "                handler.response().end(ObjectMappers.toJson(exec.getNDArray(\"output_layer\").getAs(float[].class)));\n",
    "                taskHandler.complete();\n",
    "            },resultHandler -> {\n",
    "                if(resultHandler.failed()) {\n",
    "                    if(resultHandler.cause() != null)\n",
    "                        if(handler.vertx().exceptionHandler() != null)\n",
    "                            handler.vertx().exceptionHandler().handle(resultHandler.cause());\n",
    "                        else {\n",
    "                            resultHandler.cause().printStackTrace();\n",
    "                        }\n",
    "                    else {\n",
    "                        System.err.println(\"Failed to process classification endpoint async task. Unknown cause.\");\n",
    "                    }\n",
    "                }\n",
    "            });\n",
    "\n",
    "        };\n",
    "    }\n",
    "}"
   ]
  },
  {
   "cell_type": "code",
   "execution_count": 4,
   "metadata": {},
   "outputs": [
    {
     "data": {
      "text/plain": [
       "ai.konduit.OCREndPoints"
      ]
     },
     "execution_count": 4,
     "metadata": {},
     "output_type": "execute_result"
    }
   ],
   "source": [
    "package ai.konduit;\n",
    "\n",
    "import ai.konduit.serving.endpoint.Endpoint;\n",
    "import ai.konduit.serving.endpoint.HttpEndpoints;\n",
    "import ai.konduit.serving.pipeline.api.pipeline.Pipeline;\n",
    "import ai.konduit.serving.pipeline.api.pipeline.PipelineExecutor;\n",
    "\n",
    "import java.util.Arrays;\n",
    "import java.util.List;\n",
    "\n",
    "public class OCREndPoints implements HttpEndpoints {\n",
    "\n",
    "    @Override\n",
    "    public List<Endpoint> endpoints(Pipeline pipeline, PipelineExecutor pipelineExecutor) {\n",
    "        return Arrays.asList(new OCREndPoint(pipelineExecutor));\n",
    "    }\n",
    "}"
   ]
  },
  {
   "cell_type": "code",
   "execution_count": 5,
   "metadata": {},
   "outputs": [
    {
     "name": "stdout",
     "output_type": "stream",
     "text": [
      "/tmp/beaker3569851509835462333/outDir\n",
      "/root/konduit/konduit.jar\n",
      "Saved /tmp/beaker3569851509835462333/outDir:/root/konduit/konduit.jar at: /root/konduit/demos/3-keras-mnist/classpath\n"
     ]
    },
    {
     "data": {
      "text/plain": [
       "null"
      ]
     },
     "execution_count": 5,
     "metadata": {},
     "output_type": "execute_result"
    }
   ],
   "source": [
    "import java.net.URLClassLoader;\n",
    "import java.net.URL;\n",
    "import java.io.File;\n",
    "\n",
    "import java.util.ArrayList;\n",
    "import java.util.List;\n",
    "\n",
    "import org.apache.commons.io.FileUtils;\n",
    "import java.io.IOException;\n",
    "\n",
    "import java.nio.charset.StandardCharsets;\n",
    "\n",
    "URL[] urls = ((URLClassLoader) Class.forName(\"ai.konduit.serving.vertx.config.InferenceConfiguration\").getClassLoader()).getURLs();\n",
    "List<String> classpaths = new ArrayList<>();\n",
    "\n",
    "for(URL url : urls) {\n",
    "    String singleClassPath = new File(url.toURI()).getAbsolutePath();\n",
    "    System.out.println(singleClassPath);\n",
    "    classpaths.add(singleClassPath);\n",
    "}\n",
    "\n",
    "try {\n",
    "    String output = String.join(File.pathSeparator, classpaths);\n",
    "    File classpathOutputPath = new File(\"classpath\");\n",
    "    FileUtils.writeStringToFile(new File(\"classpath\"), output, StandardCharsets.UTF_8);\n",
    "    System.out.format(\"Saved %s at: %s%n\", output, classpathOutputPath.getAbsolutePath());\n",
    "} catch (IOException e) {\n",
    "    e.printStackTrace();\n",
    "}"
   ]
  },
  {
   "cell_type": "code",
   "execution_count": 6,
   "metadata": {},
   "outputs": [
    {
     "name": "stdout",
     "output_type": "stream",
     "text": [
      "Starting konduit server...\n",
      "Using classpath: /tmp/beaker3569851509835462333/outDir:/root/konduit/konduit.jar\n",
      "INFO: Running command /opt/conda/jre/bin/java -Dkonduit.logs.file.path=/root/.konduit-serving/command_logs/keras-mnist.log -Dlogback.configurationFile=/tmp/logback-run_command_cab6997769ef430d.xml ai.konduit.serving.cli.launcher.KonduitServingLauncher run --instances 1 -s inference -c keras.json -Dserving.id=keras-mnist\n",
      "For server status, execute: 'java ai.konduit.serving.cli.launcher.KonduitServingLauncher list'\n",
      "For logs, execute: 'java ai.konduit.serving.cli.launcher.KonduitServingLauncher logs keras-mnist'\n",
      "\n"
     ]
    }
   ],
   "source": [
    "%%bash\n",
    "java -cp $(cat classpath) ai.konduit.serving.cli.launcher.KonduitServingLauncher serve -id keras-mnist -c keras.json -rwm -b"
   ]
  },
  {
   "cell_type": "code",
   "execution_count": 7,
   "metadata": {},
   "outputs": [
    {
     "name": "stdout",
     "output_type": "stream",
     "text": [
      "\n",
      "Listing konduit servers...\n",
      "\n",
      " #   | ID                             | TYPE       | URL                  | PID     | STATUS     \n",
      " 1   | server                         | inference  | 0.0.0.0:8082         | 75      | started    \n",
      " 2   | onnx-iris                      | inference  | localhost:39351      | 1265    | started    \n",
      " 3   | keras-mnist                    | inference  | localhost:42623      | 2680    | started    \n",
      "\n",
      "\n"
     ]
    }
   ],
   "source": [
    "%%bash\n",
    "konduit list"
   ]
  },
  {
   "cell_type": "code",
   "execution_count": 8,
   "metadata": {},
   "outputs": [
    {
     "name": "stdout",
     "output_type": "stream",
     "text": [
      "05:54:48.086 [vert.x-worker-thread-0] INFO  org.nd4j.linalg.factory.Nd4jBackend - Loaded [CpuBackend] backend\n",
      "05:54:48.265 [vert.x-worker-thread-0] WARN  org.nd4j.versioncheck.VersionCheck - *** ND4J VERSION CHECK FAILED - INCOMPATIBLE VERSIONS FOUND ***\n",
      "05:54:48.265 [vert.x-worker-thread-0] WARN  org.nd4j.versioncheck.VersionCheck - Incompatible versions (different version number) of DL4J, ND4J, RL4J, DataVec, Arbiter are unlikely to function correctly\n",
      "05:54:48.265 [vert.x-worker-thread-0] INFO  org.nd4j.versioncheck.VersionCheck - Versions of artifacts found on classpath:\n",
      "05:54:48.334 [vert.x-worker-thread-0] INFO  org.nd4j.versioncheck.VersionCheck - org.datavec : datavec-api : 1.0.0-SNAPSHOT\n",
      "05:54:48.335 [vert.x-worker-thread-0] INFO  org.nd4j.versioncheck.VersionCheck - org.datavec : datavec-arrow : 1.0.0-SNAPSHOT\n",
      "05:54:48.335 [vert.x-worker-thread-0] INFO  org.nd4j.versioncheck.VersionCheck - org.datavec : datavec-data-image : 1.0.0-SNAPSHOT\n",
      "05:54:48.335 [vert.x-worker-thread-0] INFO  org.nd4j.versioncheck.VersionCheck - org.datavec : datavec-local : 1.0.0-SNAPSHOT\n",
      "05:54:48.335 [vert.x-worker-thread-0] INFO  org.nd4j.versioncheck.VersionCheck - org.datavec : datavec-python : 1.0.0-SNAPSHOT\n",
      "05:54:48.335 [vert.x-worker-thread-0] INFO  org.nd4j.versioncheck.VersionCheck - org.deeplearning4j : deeplearning4j-common : 1.0.0-SNAPSHOT\n",
      "05:54:48.335 [vert.x-worker-thread-0] INFO  org.nd4j.versioncheck.VersionCheck - org.deeplearning4j : deeplearning4j-core : 1.0.0-SNAPSHOT\n",
      "05:54:48.335 [vert.x-worker-thread-0] INFO  org.nd4j.versioncheck.VersionCheck - org.deeplearning4j : deeplearning4j-datasets : 1.0.0-SNAPSHOT\n",
      "05:54:48.335 [vert.x-worker-thread-0] INFO  org.nd4j.versioncheck.VersionCheck - org.deeplearning4j : deeplearning4j-datavec-iterators : 1.0.0-SNAPSHOT\n",
      "05:54:48.335 [vert.x-worker-thread-0] INFO  org.nd4j.versioncheck.VersionCheck - org.deeplearning4j : deeplearning4j-modelimport : 1.0.0-SNAPSHOT\n",
      "05:54:48.335 [vert.x-worker-thread-0] INFO  org.nd4j.versioncheck.VersionCheck - org.deeplearning4j : deeplearning4j-nlp : 1.0.0-SNAPSHOT\n",
      "05:54:48.335 [vert.x-worker-thread-0] INFO  org.nd4j.versioncheck.VersionCheck - org.deeplearning4j : deeplearning4j-nn : 1.0.0-SNAPSHOT\n",
      "05:54:48.335 [vert.x-worker-thread-0] INFO  org.nd4j.versioncheck.VersionCheck - org.deeplearning4j : deeplearning4j-parallel-wrapper : 1.0.0-SNAPSHOT\n",
      "05:54:48.335 [vert.x-worker-thread-0] INFO  org.nd4j.versioncheck.VersionCheck - org.deeplearning4j : deeplearning4j-tsne : 1.0.0-SNAPSHOT\n",
      "05:54:48.335 [vert.x-worker-thread-0] INFO  org.nd4j.versioncheck.VersionCheck - org.deeplearning4j : deeplearning4j-ui-components : 1.0.0-SNAPSHOT\n",
      "05:54:48.336 [vert.x-worker-thread-0] INFO  org.nd4j.versioncheck.VersionCheck - org.deeplearning4j : deeplearning4j-utility-iterators : 1.0.0-SNAPSHOT\n",
      "05:54:48.336 [vert.x-worker-thread-0] INFO  org.nd4j.versioncheck.VersionCheck - org.deeplearning4j : deeplearning4j-zoo : 1.0.0-SNAPSHOT\n",
      "05:54:48.336 [vert.x-worker-thread-0] INFO  org.nd4j.versioncheck.VersionCheck - org.deeplearning4j : nearestneighbor-core : 1.0.0-SNAPSHOT\n",
      "05:54:48.336 [vert.x-worker-thread-0] INFO  org.nd4j.versioncheck.VersionCheck - org.nd4j : guava : 1.0.0-SNAPSHOT\n",
      "05:54:48.336 [vert.x-worker-thread-0] INFO  org.nd4j.versioncheck.VersionCheck - org.nd4j : jackson : 1.0.0-SNAPSHOT\n",
      "05:54:48.336 [vert.x-worker-thread-0] INFO  org.nd4j.versioncheck.VersionCheck - org.nd4j : nd4j-aeron : 1.0.0-SNAPSHOT\n",
      "05:54:48.336 [vert.x-worker-thread-0] INFO  org.nd4j.versioncheck.VersionCheck - org.nd4j : nd4j-api : 1.0.0-beta7\n",
      "05:54:48.336 [vert.x-worker-thread-0] INFO  org.nd4j.versioncheck.VersionCheck - org.nd4j : nd4j-arrow : 1.0.0-SNAPSHOT\n",
      "05:54:48.336 [vert.x-worker-thread-0] INFO  org.nd4j.versioncheck.VersionCheck - org.nd4j : nd4j-common : 1.0.0-SNAPSHOT\n",
      "05:54:48.336 [vert.x-worker-thread-0] INFO  org.nd4j.versioncheck.VersionCheck - org.nd4j : nd4j-native-api : 1.0.0-beta7\n",
      "05:54:48.336 [vert.x-worker-thread-0] INFO  org.nd4j.versioncheck.VersionCheck - org.nd4j : nd4j-native : 1.0.0-beta7\n",
      "05:54:48.336 [vert.x-worker-thread-0] INFO  org.nd4j.versioncheck.VersionCheck - org.nd4j : nd4j-native-platform : 1.0.0-SNAPSHOT\n",
      "05:54:48.336 [vert.x-worker-thread-0] INFO  org.nd4j.versioncheck.VersionCheck - org.nd4j : nd4j-parameter-server-client : 1.0.0-SNAPSHOT\n",
      "05:54:48.336 [vert.x-worker-thread-0] INFO  org.nd4j.versioncheck.VersionCheck - org.nd4j : nd4j-parameter-server : 1.0.0-SNAPSHOT\n",
      "05:54:48.337 [vert.x-worker-thread-0] INFO  org.nd4j.versioncheck.VersionCheck - org.nd4j : nd4j-parameter-server-model : 1.0.0-SNAPSHOT\n",
      "05:54:48.337 [vert.x-worker-thread-0] INFO  org.nd4j.versioncheck.VersionCheck - org.nd4j : nd4j-tensorflow : 1.0.0-SNAPSHOT\n",
      "05:54:48.337 [vert.x-worker-thread-0] INFO  org.nd4j.versioncheck.VersionCheck - org.nd4j : protobuf : 1.0.0-beta7\n",
      "05:54:48.614 [vert.x-worker-thread-0] INFO  org.nd4j.nativeblas.NativeOpsHolder - Number of threads used for linear algebra: 2\n",
      "05:54:48.622 [vert.x-worker-thread-0] WARN  o.n.l.c.nativecpu.CpuNDArrayFactory - *********************************** CPU Feature Check Warning ***********************************\n",
      "05:54:48.622 [vert.x-worker-thread-0] WARN  o.n.l.c.nativecpu.CpuNDArrayFactory - Warning: Initializing ND4J with Generic x86 binary on a CPU with AVX/AVX2 support\n",
      "05:54:48.623 [vert.x-worker-thread-0] WARN  o.n.l.c.nativecpu.CpuNDArrayFactory - Using ND4J with AVX/AVX2 will improve performance. See deeplearning4j.org/cpu for more details\n",
      "05:54:48.623 [vert.x-worker-thread-0] WARN  o.n.l.c.nativecpu.CpuNDArrayFactory - Or set environment variable ND4J_IGNORE_AVX=true to suppress this warning\n",
      "05:54:48.623 [vert.x-worker-thread-0] WARN  o.n.l.c.nativecpu.CpuNDArrayFactory - *************************************************************************************************\n",
      "05:54:48.628 [vert.x-worker-thread-0] INFO  org.nd4j.nativeblas.Nd4jBlas - Number of threads used for OpenMP BLAS: 2\n",
      "05:54:48.630 [vert.x-worker-thread-0] INFO  o.n.l.a.o.e.DefaultOpExecutioner - Backend used: [CPU]; OS: [Linux]\n",
      "05:54:48.637 [vert.x-worker-thread-0] INFO  o.n.l.a.o.e.DefaultOpExecutioner - Cores: [2]; Memory: [0.4GB];\n",
      "05:54:48.637 [vert.x-worker-thread-0] INFO  o.n.l.a.o.e.DefaultOpExecutioner - Blas vendor: [OPENBLAS]\n",
      "05:54:48.771 [vert.x-worker-thread-0] INFO  o.d.nn.graph.ComputationGraph - Starting ComputationGraph with WorkspaceModes set to [training: ENABLED; inference: ENABLED], cacheMode set to [NONE]\n",
      "05:54:48.804 [vert.x-worker-thread-0] INFO  a.k.s.m.d.step.DL4JRunner - \n",
      "05:54:48.805 [vert.x-worker-thread-0] INFO  a.k.s.v.verticle.InferenceVerticle - \n",
      "\n",
      "####################################################################\n",
      "#                                                                  #\n",
      "#    |  /   _ \\   \\ |  _ \\  |  | _ _| __ __|    |  /     |  /      #\n",
      "#    . <   (   | .  |  |  | |  |   |     |      . <      . <       #\n",
      "#   _|\\_\\ \\___/ _|\\_| ___/ \\__/  ___|   _|     _|\\_\\ _) _|\\_\\ _)   #\n",
      "#                                                                  #\n",
      "####################################################################\n",
      "\n",
      "05:54:48.805 [vert.x-worker-thread-0] INFO  a.k.s.v.verticle.InferenceVerticle - Pending server start, please wait...\n",
      "05:54:48.990 [vert.x-eventloop-thread-0] INFO  a.k.s.v.verticle.InferenceVerticle - Writing inspection data at '/root/.konduit-serving/servers/2680.data' with configuration: \n",
      "{\n",
      "  \"host\" : \"localhost\",\n",
      "  \"port\" : 42623,\n",
      "  \"protocol\" : \"HTTP\",\n",
      "  \"customEndpoints\" : [ \"ai.konduit.OCREndPoints\" ],\n",
      "  \"pipeline\" : {\n",
      "    \"steps\" : [ {\n",
      "      \"@type\" : \"IMAGE_TO_NDARRAY\",\n",
      "      \"config\" : {\n",
      "        \"height\" : 28,\n",
      "        \"width\" : 28,\n",
      "        \"dataType\" : \"FLOAT\",\n",
      "        \"includeMinibatchDim\" : true,\n",
      "        \"aspectRatioHandling\" : \"CENTER_CROP\",\n",
      "        \"format\" : \"CHANNELS_FIRST\",\n",
      "        \"channelLayout\" : \"GRAYSCALE\",\n",
      "        \"normalization\" : {\n",
      "          \"type\" : \"SCALE\"\n",
      "        },\n",
      "        \"listHandling\" : \"NONE\"\n",
      "      },\n",
      "      \"keys\" : [ \"image\" ],\n",
      "      \"outputNames\" : [ \"input_layer\" ],\n",
      "      \"keepOtherValues\" : true,\n",
      "      \"metadata\" : false,\n",
      "      \"metadataKey\" : \"@ImageToNDArrayStepMetadata\"\n",
      "    }, {\n",
      "      \"@type\" : \"LOGGING\",\n",
      "      \"logLevel\" : \"INFO\",\n",
      "      \"log\" : \"KEYS_AND_VALUES\"\n",
      "    }, {\n",
      "      \"@type\" : \"KERAS\",\n",
      "      \"modelUri\" : \"keras.h5\",\n",
      "      \"inputNames\" : [ \"input_layer\" ],\n",
      "      \"outputNames\" : [ \"output_layer\" ]\n",
      "    } ]\n",
      "  }\n",
      "}\n",
      "05:54:48.991 [vert.x-eventloop-thread-0] INFO  a.k.s.v.p.h.v.InferenceVerticleHttp - Inference HTTP server is listening on host: 'localhost'\n",
      "05:54:48.991 [vert.x-eventloop-thread-0] INFO  a.k.s.v.p.h.v.InferenceVerticleHttp - Inference HTTP server started on port 42623 with 3 pipeline steps\n",
      "\n"
     ]
    }
   ],
   "source": [
    "%%bash\n",
    "konduit logs keras-mnist --lines 100"
   ]
  },
  {
   "cell_type": "code",
   "execution_count": 9,
   "metadata": {},
   "outputs": [
    {
     "data": {
      "text/html": [
       "<html><img src=\"test-image.jpg\" alt=\"title\"></html>"
      ]
     },
     "execution_count": 9,
     "metadata": {},
     "output_type": "execute_result"
    }
   ],
   "source": [
    "%%html\n",
    "<img src=\"test-image.jpg\" alt=\"title\">"
   ]
  },
  {
   "cell_type": "code",
   "execution_count": 10,
   "metadata": {},
   "outputs": [
    {
     "name": "stdout",
     "output_type": "stream",
     "text": [
      "[ 9.0376153E-7, 1.0595608E-8, 1.3115231E-5, 0.44657645, 6.748624E-12, 0.5524258, 1.848306E-7, 2.7652052E-9, 9.76023E-4, 7.5933513E-6 ]\n",
      "\n"
     ]
    }
   ],
   "source": [
    "%%bash\n",
    "curl -s -H \"Content-Type: multipart/form-data\" -X POST -F 'image=@test-image.jpg' http://localhost:$(konduit inspect keras-mnist -q {port})/infer"
   ]
  },
  {
   "cell_type": "code",
   "execution_count": 11,
   "metadata": {},
   "outputs": [
    {
     "name": "stdout",
     "output_type": "stream",
     "text": [
      "Stopping konduit server 'keras-mnist'\n",
      "Application 'keras-mnist' terminated with status 0\n",
      "\n"
     ]
    }
   ],
   "source": [
    "%%bash\n",
    "konduit stop keras-mnist"
   ]
  }
 ],
 "metadata": {
  "kernelspec": {
   "display_name": "Java",
   "language": "java",
   "name": "java"
  },
  "language_info": {
   "codemirror_mode": "text/x-java",
   "file_extension": ".java",
   "mimetype": "",
   "name": "Java",
   "nbconverter_exporter": "",
   "version": "1.8.0_121"
  },
  "toc": {
   "base_numbering": 1,
   "nav_menu": {},
   "number_sections": false,
   "sideBar": false,
   "skip_h1_title": false,
   "title_cell": "Table of Contents",
   "title_sidebar": "Contents",
   "toc_cell": false,
   "toc_position": {},
   "toc_section_display": false,
   "toc_window_display": false
  }
 },
 "nbformat": 4,
 "nbformat_minor": 4
}
